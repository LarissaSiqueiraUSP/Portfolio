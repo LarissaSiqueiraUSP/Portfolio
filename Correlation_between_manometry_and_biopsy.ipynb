{
  "cells": [
    {
      "cell_type": "markdown",
      "metadata": {
        "id": "n9Zvb9vevT0P"
      },
      "source": [
        "# Explanation of the problem"
      ]
    },
    {
      "cell_type": "markdown",
      "metadata": {
        "id": "qMiuz7OftpeC"
      },
      "source": [
        "### A correlation was done to compare two medical analysis (manometry and biopy) in children that have a history of constipation and had at least one of these exams altered.\n",
        "\n",
        "Desired:\n",
        "\n",
        "- Mean of age at the examen\n",
        "- Mean of duration of constipation\n",
        "- Percent of children that have done prior clinical treatment\n",
        "- Percent of healthy/ with comorbidity children\n",
        "- Percent of altered manometry\n",
        "- Percent of biopsys done\n",
        "- Correlation between manometry and biopsy results\n",
        "- Correlation between comorbity and altered exams\n",
        "- Percent of the outcome for the pacients"
      ]
    },
    {
      "cell_type": "markdown",
      "metadata": {
        "id": "h-oXoCTistWy"
      },
      "source": [
        "## Importing the libraries that will be used"
      ]
    },
    {
      "cell_type": "code",
      "execution_count": 66,
      "metadata": {
        "id": "miys6VqJTjgw"
      },
      "outputs": [],
      "source": [
        "import pandas as pd\n",
        "import re\n",
        "import numpy as np\n",
        "import matplotlib.pyplot as plt\n",
        "%matplotlib inline\n",
        "import seaborn as sns"
      ]
    },
    {
      "cell_type": "markdown",
      "metadata": {
        "id": "zZ_E31sfteZo"
      },
      "source": [
        "## Importing data"
      ]
    },
    {
      "cell_type": "code",
      "execution_count": 67,
      "metadata": {
        "id": "oxtD8CRYULz8"
      },
      "outputs": [],
      "source": [
        "data = pd.read_excel('D:/Trabalho/DataScience/GitHub/Portfolio/Manometrias_de_2015_a_2019.xls', sheet_name='ANORETAL') #Planilha excel"
      ]
    },
    {
      "cell_type": "markdown",
      "metadata": {
        "id": "xpmMeRxUvrKS"
      },
      "source": [
        "## Drop columns that will not be used and/ or are confidential"
      ]
    },
    {
      "cell_type": "code",
      "execution_count": 68,
      "metadata": {
        "colab": {
          "base_uri": "https://localhost:8080/"
        },
        "id": "7JVVL0x-UfZo",
        "outputId": "54838845-156f-436b-99eb-ba5e46065331"
      },
      "outputs": [
        {
          "data": {
            "text/plain": [
              "Index(['DATA da Manometria', 'HC', 'DN', 'IDADE ao exame', 'NOME DO PACIENTE',\n",
              "       'Duração da constipação até chegar ao serviço',\n",
              "       'Fez tratamento clínico antes da Manometria? (Sim=1/ não=2/desconhecido=3)',\n",
              "       'ANTECEDENTE CLÍNICO DO PACIENTE ( hígido=1/comorbidade=2/esconheciddo=3)',\n",
              "       'EXAME REALIZADO', 'LAUDO / CONCLUSÃO', '.',\n",
              "       'Manometria (normal=1/alterada=2/inconclusiva=3/não realizada=4)',\n",
              "       'Biópsia (fez=1/nãofez=2)',\n",
              "       'Resultado da Biópsia(normal=1/alterada=2/inconclusivo=3)',\n",
              "       'Desfecho para o paciente em relação ao seguimento (mantém=1/alta=2/perdeu=3/óbito=4/desconhecido=5)'],\n",
              "      dtype='object')"
            ]
          },
          "execution_count": 68,
          "metadata": {},
          "output_type": "execute_result"
        }
      ],
      "source": [
        "data.columns"
      ]
    },
    {
      "cell_type": "code",
      "execution_count": 69,
      "metadata": {
        "id": "F8Oy-4vIUob_"
      },
      "outputs": [],
      "source": [
        "data.drop(columns=['DN', 'NOME DO PACIENTE', 'EXAME REALIZADO', 'LAUDO / CONCLUSÃO', 'DATA da Manometria', 'HC', '.'], inplace = True)"
      ]
    },
    {
      "cell_type": "code",
      "execution_count": 70,
      "metadata": {
        "colab": {
          "base_uri": "https://localhost:8080/",
          "height": 0
        },
        "id": "UOJ2oHdwWw_i",
        "outputId": "786d40e7-a4a2-4968-e938-b42aa63fa354"
      },
      "outputs": [
        {
          "data": {
            "text/html": [
              "<div>\n",
              "<style scoped>\n",
              "    .dataframe tbody tr th:only-of-type {\n",
              "        vertical-align: middle;\n",
              "    }\n",
              "\n",
              "    .dataframe tbody tr th {\n",
              "        vertical-align: top;\n",
              "    }\n",
              "\n",
              "    .dataframe thead th {\n",
              "        text-align: right;\n",
              "    }\n",
              "</style>\n",
              "<table border=\"1\" class=\"dataframe\">\n",
              "  <thead>\n",
              "    <tr style=\"text-align: right;\">\n",
              "      <th></th>\n",
              "      <th>IDADE ao exame</th>\n",
              "      <th>Duração da constipação até chegar ao serviço</th>\n",
              "      <th>Fez tratamento clínico antes da Manometria? (Sim=1/ não=2/desconhecido=3)</th>\n",
              "      <th>ANTECEDENTE CLÍNICO DO PACIENTE ( hígido=1/comorbidade=2/esconheciddo=3)</th>\n",
              "      <th>Manometria (normal=1/alterada=2/inconclusiva=3/não realizada=4)</th>\n",
              "      <th>Biópsia (fez=1/nãofez=2)</th>\n",
              "      <th>Resultado da Biópsia(normal=1/alterada=2/inconclusivo=3)</th>\n",
              "      <th>Desfecho para o paciente em relação ao seguimento (mantém=1/alta=2/perdeu=3/óbito=4/desconhecido=5)</th>\n",
              "    </tr>\n",
              "  </thead>\n",
              "  <tbody>\n",
              "    <tr>\n",
              "      <th>0</th>\n",
              "      <td>5A</td>\n",
              "      <td>7 dias</td>\n",
              "      <td>1.0</td>\n",
              "      <td>2 (geniturinário)</td>\n",
              "      <td>1.0</td>\n",
              "      <td>2.0</td>\n",
              "      <td>NaN</td>\n",
              "      <td>1.0</td>\n",
              "    </tr>\n",
              "    <tr>\n",
              "      <th>1</th>\n",
              "      <td>8A 7M</td>\n",
              "      <td>desde o nascimento</td>\n",
              "      <td>1.0</td>\n",
              "      <td>2 (Sd genética com Baixa estatura, ADNPM, DI l...</td>\n",
              "      <td>1.0</td>\n",
              "      <td>2.0</td>\n",
              "      <td>NaN</td>\n",
              "      <td>2.0</td>\n",
              "    </tr>\n",
              "    <tr>\n",
              "      <th>2</th>\n",
              "      <td>12A 11M</td>\n",
              "      <td>desde o nascimento</td>\n",
              "      <td>1.0</td>\n",
              "      <td>2 (HIRSCSPRUNG?)</td>\n",
              "      <td>2.0</td>\n",
              "      <td>2.0</td>\n",
              "      <td>NaN</td>\n",
              "      <td>3.0</td>\n",
              "    </tr>\n",
              "    <tr>\n",
              "      <th>3</th>\n",
              "      <td>11A 3M</td>\n",
              "      <td>desde os 9 anos</td>\n",
              "      <td>1.0</td>\n",
              "      <td>1</td>\n",
              "      <td>1.0</td>\n",
              "      <td>2.0</td>\n",
              "      <td>NaN</td>\n",
              "      <td>2.0</td>\n",
              "    </tr>\n",
              "    <tr>\n",
              "      <th>4</th>\n",
              "      <td>3A 2M</td>\n",
              "      <td>desde os 2 anos de idade</td>\n",
              "      <td>1.0</td>\n",
              "      <td>2 (Prune Belly)</td>\n",
              "      <td>1.0</td>\n",
              "      <td>2.0</td>\n",
              "      <td>NaN</td>\n",
              "      <td>1.0</td>\n",
              "    </tr>\n",
              "  </tbody>\n",
              "</table>\n",
              "</div>"
            ],
            "text/plain": [
              "  IDADE ao exame Duração da constipação até chegar ao serviço  \\\n",
              "0             5A                                       7 dias   \n",
              "1          8A 7M                           desde o nascimento   \n",
              "2        12A 11M                           desde o nascimento   \n",
              "3         11A 3M                              desde os 9 anos   \n",
              "4          3A 2M                     desde os 2 anos de idade   \n",
              "\n",
              "   Fez tratamento clínico antes da Manometria? (Sim=1/ não=2/desconhecido=3)  \\\n",
              "0                                                1.0                           \n",
              "1                                                1.0                           \n",
              "2                                                1.0                           \n",
              "3                                                1.0                           \n",
              "4                                                1.0                           \n",
              "\n",
              "  ANTECEDENTE CLÍNICO DO PACIENTE ( hígido=1/comorbidade=2/esconheciddo=3)  \\\n",
              "0                                  2 (geniturinário)                         \n",
              "1  2 (Sd genética com Baixa estatura, ADNPM, DI l...                         \n",
              "2                                   2 (HIRSCSPRUNG?)                         \n",
              "3                                                  1                         \n",
              "4                                    2 (Prune Belly)                         \n",
              "\n",
              "   Manometria (normal=1/alterada=2/inconclusiva=3/não realizada=4)  \\\n",
              "0                                                1.0                 \n",
              "1                                                1.0                 \n",
              "2                                                2.0                 \n",
              "3                                                1.0                 \n",
              "4                                                1.0                 \n",
              "\n",
              "   Biópsia (fez=1/nãofez=2)  \\\n",
              "0                       2.0   \n",
              "1                       2.0   \n",
              "2                       2.0   \n",
              "3                       2.0   \n",
              "4                       2.0   \n",
              "\n",
              "   Resultado da Biópsia(normal=1/alterada=2/inconclusivo=3)  \\\n",
              "0                                                NaN          \n",
              "1                                                NaN          \n",
              "2                                                NaN          \n",
              "3                                                NaN          \n",
              "4                                                NaN          \n",
              "\n",
              "   Desfecho para o paciente em relação ao seguimento (mantém=1/alta=2/perdeu=3/óbito=4/desconhecido=5)  \n",
              "0                                                1.0                                                    \n",
              "1                                                2.0                                                    \n",
              "2                                                3.0                                                    \n",
              "3                                                2.0                                                    \n",
              "4                                                1.0                                                    "
            ]
          },
          "execution_count": 70,
          "metadata": {},
          "output_type": "execute_result"
        }
      ],
      "source": [
        "data.head()"
      ]
    },
    {
      "cell_type": "markdown",
      "metadata": {
        "id": "WBm8v-6Lw0RG"
      },
      "source": [
        "## Verify the shape of the Data Frame"
      ]
    },
    {
      "cell_type": "code",
      "execution_count": 71,
      "metadata": {
        "colab": {
          "base_uri": "https://localhost:8080/"
        },
        "id": "37FIes7iXsjh",
        "outputId": "98f961d4-1c36-4b6e-ab17-efa575b66916"
      },
      "outputs": [
        {
          "data": {
            "text/plain": [
              "(3174, 8)"
            ]
          },
          "execution_count": 71,
          "metadata": {},
          "output_type": "execute_result"
        }
      ],
      "source": [
        "data.shape"
      ]
    },
    {
      "cell_type": "markdown",
      "metadata": {
        "id": "TqDO7xUTw2yU"
      },
      "source": [
        "## Drop duplicated lines and lines with only NaN values"
      ]
    },
    {
      "cell_type": "code",
      "execution_count": 72,
      "metadata": {
        "id": "f3UZa0c_bP8b"
      },
      "outputs": [],
      "source": [
        "data = data.drop_duplicates()"
      ]
    },
    {
      "cell_type": "code",
      "execution_count": 73,
      "metadata": {
        "colab": {
          "base_uri": "https://localhost:8080/"
        },
        "id": "ssdMJvO_dR8v",
        "outputId": "9d72993c-6d82-4b81-cb8f-c58a9a2197e7"
      },
      "outputs": [
        {
          "data": {
            "text/plain": [
              "(99, 8)"
            ]
          },
          "execution_count": 73,
          "metadata": {},
          "output_type": "execute_result"
        }
      ],
      "source": [
        "data.shape"
      ]
    },
    {
      "cell_type": "code",
      "execution_count": 74,
      "metadata": {
        "id": "B71VmGukc-pT"
      },
      "outputs": [],
      "source": [
        "data = data.dropna(axis=0, how='all')"
      ]
    },
    {
      "cell_type": "code",
      "execution_count": 75,
      "metadata": {
        "colab": {
          "base_uri": "https://localhost:8080/"
        },
        "id": "Dpn5qbM2dE0S",
        "outputId": "86ec12ce-3ad6-4b7c-e75a-84465749a0c3"
      },
      "outputs": [
        {
          "data": {
            "text/plain": [
              "(98, 8)"
            ]
          },
          "execution_count": 75,
          "metadata": {},
          "output_type": "execute_result"
        }
      ],
      "source": [
        "data.shape"
      ]
    },
    {
      "cell_type": "markdown",
      "metadata": {
        "id": "AaFbYzxDxL2b"
      },
      "source": [
        "## Verifying the data"
      ]
    },
    {
      "cell_type": "code",
      "execution_count": 76,
      "metadata": {
        "colab": {
          "base_uri": "https://localhost:8080/",
          "height": 0
        },
        "id": "syU1ute6xNtI",
        "outputId": "89660f0e-c626-4e30-8811-0931a699fc55"
      },
      "outputs": [
        {
          "data": {
            "text/html": [
              "<div>\n",
              "<style scoped>\n",
              "    .dataframe tbody tr th:only-of-type {\n",
              "        vertical-align: middle;\n",
              "    }\n",
              "\n",
              "    .dataframe tbody tr th {\n",
              "        vertical-align: top;\n",
              "    }\n",
              "\n",
              "    .dataframe thead th {\n",
              "        text-align: right;\n",
              "    }\n",
              "</style>\n",
              "<table border=\"1\" class=\"dataframe\">\n",
              "  <thead>\n",
              "    <tr style=\"text-align: right;\">\n",
              "      <th></th>\n",
              "      <th>IDADE ao exame</th>\n",
              "      <th>Duração da constipação até chegar ao serviço</th>\n",
              "      <th>Fez tratamento clínico antes da Manometria? (Sim=1/ não=2/desconhecido=3)</th>\n",
              "      <th>ANTECEDENTE CLÍNICO DO PACIENTE ( hígido=1/comorbidade=2/esconheciddo=3)</th>\n",
              "      <th>Manometria (normal=1/alterada=2/inconclusiva=3/não realizada=4)</th>\n",
              "      <th>Biópsia (fez=1/nãofez=2)</th>\n",
              "      <th>Resultado da Biópsia(normal=1/alterada=2/inconclusivo=3)</th>\n",
              "      <th>Desfecho para o paciente em relação ao seguimento (mantém=1/alta=2/perdeu=3/óbito=4/desconhecido=5)</th>\n",
              "    </tr>\n",
              "  </thead>\n",
              "  <tbody>\n",
              "    <tr>\n",
              "      <th>0</th>\n",
              "      <td>5A</td>\n",
              "      <td>7 dias</td>\n",
              "      <td>1.0</td>\n",
              "      <td>2 (geniturinário)</td>\n",
              "      <td>1.0</td>\n",
              "      <td>2.0</td>\n",
              "      <td>NaN</td>\n",
              "      <td>1.0</td>\n",
              "    </tr>\n",
              "    <tr>\n",
              "      <th>1</th>\n",
              "      <td>8A 7M</td>\n",
              "      <td>desde o nascimento</td>\n",
              "      <td>1.0</td>\n",
              "      <td>2 (Sd genética com Baixa estatura, ADNPM, DI l...</td>\n",
              "      <td>1.0</td>\n",
              "      <td>2.0</td>\n",
              "      <td>NaN</td>\n",
              "      <td>2.0</td>\n",
              "    </tr>\n",
              "    <tr>\n",
              "      <th>2</th>\n",
              "      <td>12A 11M</td>\n",
              "      <td>desde o nascimento</td>\n",
              "      <td>1.0</td>\n",
              "      <td>2 (HIRSCSPRUNG?)</td>\n",
              "      <td>2.0</td>\n",
              "      <td>2.0</td>\n",
              "      <td>NaN</td>\n",
              "      <td>3.0</td>\n",
              "    </tr>\n",
              "    <tr>\n",
              "      <th>3</th>\n",
              "      <td>11A 3M</td>\n",
              "      <td>desde os 9 anos</td>\n",
              "      <td>1.0</td>\n",
              "      <td>1</td>\n",
              "      <td>1.0</td>\n",
              "      <td>2.0</td>\n",
              "      <td>NaN</td>\n",
              "      <td>2.0</td>\n",
              "    </tr>\n",
              "    <tr>\n",
              "      <th>4</th>\n",
              "      <td>3A 2M</td>\n",
              "      <td>desde os 2 anos de idade</td>\n",
              "      <td>1.0</td>\n",
              "      <td>2 (Prune Belly)</td>\n",
              "      <td>1.0</td>\n",
              "      <td>2.0</td>\n",
              "      <td>NaN</td>\n",
              "      <td>1.0</td>\n",
              "    </tr>\n",
              "    <tr>\n",
              "      <th>...</th>\n",
              "      <td>...</td>\n",
              "      <td>...</td>\n",
              "      <td>...</td>\n",
              "      <td>...</td>\n",
              "      <td>...</td>\n",
              "      <td>...</td>\n",
              "      <td>...</td>\n",
              "      <td>...</td>\n",
              "    </tr>\n",
              "    <tr>\n",
              "      <th>93</th>\n",
              "      <td>10A 2M</td>\n",
              "      <td>desde os 9a nos de idade</td>\n",
              "      <td>1.0</td>\n",
              "      <td>1</td>\n",
              "      <td>1.0</td>\n",
              "      <td>2.0</td>\n",
              "      <td>NaN</td>\n",
              "      <td>3.0</td>\n",
              "    </tr>\n",
              "    <tr>\n",
              "      <th>94</th>\n",
              "      <td>12A</td>\n",
              "      <td>aos 3 anos de idade</td>\n",
              "      <td>1.0</td>\n",
              "      <td>1</td>\n",
              "      <td>1.0</td>\n",
              "      <td>2.0</td>\n",
              "      <td>NaN</td>\n",
              "      <td>3.0</td>\n",
              "    </tr>\n",
              "    <tr>\n",
              "      <th>95</th>\n",
              "      <td>10A 7M</td>\n",
              "      <td>desde os 4 meses de idade</td>\n",
              "      <td>1.0</td>\n",
              "      <td>2 (Distrofia miotônica de Steinert)</td>\n",
              "      <td>1.0</td>\n",
              "      <td>2.0</td>\n",
              "      <td>NaN</td>\n",
              "      <td>3.0</td>\n",
              "    </tr>\n",
              "    <tr>\n",
              "      <th>96</th>\n",
              "      <td>7A 1M</td>\n",
              "      <td>desde os 4 meses de idade</td>\n",
              "      <td>1.0</td>\n",
              "      <td>1</td>\n",
              "      <td>1.0</td>\n",
              "      <td>2.0</td>\n",
              "      <td>NaN</td>\n",
              "      <td>3.0</td>\n",
              "    </tr>\n",
              "    <tr>\n",
              "      <th>97</th>\n",
              "      <td>14A</td>\n",
              "      <td>desde os 5 anos de idade</td>\n",
              "      <td>1.0</td>\n",
              "      <td>1</td>\n",
              "      <td>1.0</td>\n",
              "      <td>2.0</td>\n",
              "      <td>NaN</td>\n",
              "      <td>3.0</td>\n",
              "    </tr>\n",
              "  </tbody>\n",
              "</table>\n",
              "<p>98 rows × 8 columns</p>\n",
              "</div>"
            ],
            "text/plain": [
              "   IDADE ao exame Duração da constipação até chegar ao serviço  \\\n",
              "0              5A                                       7 dias   \n",
              "1           8A 7M                           desde o nascimento   \n",
              "2         12A 11M                           desde o nascimento   \n",
              "3          11A 3M                              desde os 9 anos   \n",
              "4           3A 2M                     desde os 2 anos de idade   \n",
              "..            ...                                          ...   \n",
              "93         10A 2M                     desde os 9a nos de idade   \n",
              "94            12A                          aos 3 anos de idade   \n",
              "95         10A 7M                    desde os 4 meses de idade   \n",
              "96          7A 1M                    desde os 4 meses de idade   \n",
              "97            14A                     desde os 5 anos de idade   \n",
              "\n",
              "    Fez tratamento clínico antes da Manometria? (Sim=1/ não=2/desconhecido=3)  \\\n",
              "0                                                 1.0                           \n",
              "1                                                 1.0                           \n",
              "2                                                 1.0                           \n",
              "3                                                 1.0                           \n",
              "4                                                 1.0                           \n",
              "..                                                ...                           \n",
              "93                                                1.0                           \n",
              "94                                                1.0                           \n",
              "95                                                1.0                           \n",
              "96                                                1.0                           \n",
              "97                                                1.0                           \n",
              "\n",
              "   ANTECEDENTE CLÍNICO DO PACIENTE ( hígido=1/comorbidade=2/esconheciddo=3)  \\\n",
              "0                                   2 (geniturinário)                         \n",
              "1   2 (Sd genética com Baixa estatura, ADNPM, DI l...                         \n",
              "2                                    2 (HIRSCSPRUNG?)                         \n",
              "3                                                   1                         \n",
              "4                                     2 (Prune Belly)                         \n",
              "..                                                ...                         \n",
              "93                                                  1                         \n",
              "94                                                  1                         \n",
              "95                2 (Distrofia miotônica de Steinert)                         \n",
              "96                                                  1                         \n",
              "97                                                  1                         \n",
              "\n",
              "    Manometria (normal=1/alterada=2/inconclusiva=3/não realizada=4)  \\\n",
              "0                                                 1.0                 \n",
              "1                                                 1.0                 \n",
              "2                                                 2.0                 \n",
              "3                                                 1.0                 \n",
              "4                                                 1.0                 \n",
              "..                                                ...                 \n",
              "93                                                1.0                 \n",
              "94                                                1.0                 \n",
              "95                                                1.0                 \n",
              "96                                                1.0                 \n",
              "97                                                1.0                 \n",
              "\n",
              "    Biópsia (fez=1/nãofez=2)  \\\n",
              "0                        2.0   \n",
              "1                        2.0   \n",
              "2                        2.0   \n",
              "3                        2.0   \n",
              "4                        2.0   \n",
              "..                       ...   \n",
              "93                       2.0   \n",
              "94                       2.0   \n",
              "95                       2.0   \n",
              "96                       2.0   \n",
              "97                       2.0   \n",
              "\n",
              "    Resultado da Biópsia(normal=1/alterada=2/inconclusivo=3)  \\\n",
              "0                                                 NaN          \n",
              "1                                                 NaN          \n",
              "2                                                 NaN          \n",
              "3                                                 NaN          \n",
              "4                                                 NaN          \n",
              "..                                                ...          \n",
              "93                                                NaN          \n",
              "94                                                NaN          \n",
              "95                                                NaN          \n",
              "96                                                NaN          \n",
              "97                                                NaN          \n",
              "\n",
              "    Desfecho para o paciente em relação ao seguimento (mantém=1/alta=2/perdeu=3/óbito=4/desconhecido=5)  \n",
              "0                                                 1.0                                                    \n",
              "1                                                 2.0                                                    \n",
              "2                                                 3.0                                                    \n",
              "3                                                 2.0                                                    \n",
              "4                                                 1.0                                                    \n",
              "..                                                ...                                                    \n",
              "93                                                3.0                                                    \n",
              "94                                                3.0                                                    \n",
              "95                                                3.0                                                    \n",
              "96                                                3.0                                                    \n",
              "97                                                3.0                                                    \n",
              "\n",
              "[98 rows x 8 columns]"
            ]
          },
          "execution_count": 76,
          "metadata": {},
          "output_type": "execute_result"
        }
      ],
      "source": [
        "data"
      ]
    },
    {
      "cell_type": "code",
      "execution_count": 77,
      "metadata": {
        "colab": {
          "base_uri": "https://localhost:8080/",
          "height": 0
        },
        "id": "Qt6LSkjkduiy",
        "outputId": "bb3a42e8-320e-4e78-e20c-23655254b991"
      },
      "outputs": [
        {
          "data": {
            "text/html": [
              "<div>\n",
              "<style scoped>\n",
              "    .dataframe tbody tr th:only-of-type {\n",
              "        vertical-align: middle;\n",
              "    }\n",
              "\n",
              "    .dataframe tbody tr th {\n",
              "        vertical-align: top;\n",
              "    }\n",
              "\n",
              "    .dataframe thead th {\n",
              "        text-align: right;\n",
              "    }\n",
              "</style>\n",
              "<table border=\"1\" class=\"dataframe\">\n",
              "  <thead>\n",
              "    <tr style=\"text-align: right;\">\n",
              "      <th></th>\n",
              "      <th>IDADE ao exame</th>\n",
              "      <th>Duração da constipação até chegar ao serviço</th>\n",
              "      <th>ANTECEDENTE CLÍNICO DO PACIENTE ( hígido=1/comorbidade=2/esconheciddo=3)</th>\n",
              "    </tr>\n",
              "  </thead>\n",
              "  <tbody>\n",
              "    <tr>\n",
              "      <th>count</th>\n",
              "      <td>98</td>\n",
              "      <td>98</td>\n",
              "      <td>98</td>\n",
              "    </tr>\n",
              "    <tr>\n",
              "      <th>unique</th>\n",
              "      <td>82</td>\n",
              "      <td>55</td>\n",
              "      <td>41</td>\n",
              "    </tr>\n",
              "    <tr>\n",
              "      <th>top</th>\n",
              "      <td>7A 8M</td>\n",
              "      <td>desde o nascimento</td>\n",
              "      <td>1</td>\n",
              "    </tr>\n",
              "    <tr>\n",
              "      <th>freq</th>\n",
              "      <td>3</td>\n",
              "      <td>22</td>\n",
              "      <td>54</td>\n",
              "    </tr>\n",
              "  </tbody>\n",
              "</table>\n",
              "</div>"
            ],
            "text/plain": [
              "       IDADE ao exame Duração da constipação até chegar ao serviço  \\\n",
              "count              98                                           98   \n",
              "unique             82                                           55   \n",
              "top             7A 8M                           desde o nascimento   \n",
              "freq                3                                           22   \n",
              "\n",
              "        ANTECEDENTE CLÍNICO DO PACIENTE ( hígido=1/comorbidade=2/esconheciddo=3)  \n",
              "count                                                  98                         \n",
              "unique                                                 41                         \n",
              "top                                                     1                         \n",
              "freq                                                   54                         "
            ]
          },
          "execution_count": 77,
          "metadata": {},
          "output_type": "execute_result"
        }
      ],
      "source": [
        "data.describe(include='O')"
      ]
    },
    {
      "cell_type": "markdown",
      "metadata": {
        "id": "d6mcjGqzyrz3"
      },
      "source": [
        "## Verifying null data"
      ]
    },
    {
      "cell_type": "code",
      "execution_count": 78,
      "metadata": {
        "colab": {
          "base_uri": "https://localhost:8080/"
        },
        "id": "0XhqU7dUhbua",
        "outputId": "124adc06-6784-4c52-9082-f363b1d6af37"
      },
      "outputs": [
        {
          "data": {
            "text/plain": [
              "IDADE ao exame                                                                                          0\n",
              "Duração da constipação até chegar ao serviço                                                            0\n",
              "Fez tratamento clínico antes da Manometria? (Sim=1/ não=2/desconhecido=3)                               1\n",
              "ANTECEDENTE CLÍNICO DO PACIENTE ( hígido=1/comorbidade=2/esconheciddo=3)                                0\n",
              "Manometria (normal=1/alterada=2/inconclusiva=3/não realizada=4)                                         0\n",
              "Biópsia (fez=1/nãofez=2)                                                                                0\n",
              "Resultado da Biópsia(normal=1/alterada=2/inconclusivo=3)                                               80\n",
              "Desfecho para o paciente em relação ao seguimento (mantém=1/alta=2/perdeu=3/óbito=4/desconhecido=5)     0\n",
              "dtype: int64"
            ]
          },
          "execution_count": 78,
          "metadata": {},
          "output_type": "execute_result"
        }
      ],
      "source": [
        "data.isnull().sum()"
      ]
    },
    {
      "cell_type": "markdown",
      "metadata": {
        "id": "LftRf3Iryz-K"
      },
      "source": [
        "### Filling with unknown (3) the null data for the prior clinical treatment question"
      ]
    },
    {
      "cell_type": "code",
      "execution_count": 79,
      "metadata": {
        "id": "IXXTsRpGh61q"
      },
      "outputs": [],
      "source": [
        "data['Fez tratamento clínico antes da Manometria? (Sim=1/ não=2/desconhecido=3)'].fillna(3, inplace = True)"
      ]
    },
    {
      "cell_type": "code",
      "execution_count": 80,
      "metadata": {
        "colab": {
          "base_uri": "https://localhost:8080/"
        },
        "id": "Lsll0xdMj15s",
        "outputId": "d08765b2-60ac-4fa5-e6ba-37ce8439da1d"
      },
      "outputs": [
        {
          "data": {
            "text/plain": [
              "IDADE ao exame                                                                                          0\n",
              "Duração da constipação até chegar ao serviço                                                            0\n",
              "Fez tratamento clínico antes da Manometria? (Sim=1/ não=2/desconhecido=3)                               0\n",
              "ANTECEDENTE CLÍNICO DO PACIENTE ( hígido=1/comorbidade=2/esconheciddo=3)                                0\n",
              "Manometria (normal=1/alterada=2/inconclusiva=3/não realizada=4)                                         0\n",
              "Biópsia (fez=1/nãofez=2)                                                                                0\n",
              "Resultado da Biópsia(normal=1/alterada=2/inconclusivo=3)                                               80\n",
              "Desfecho para o paciente em relação ao seguimento (mantém=1/alta=2/perdeu=3/óbito=4/desconhecido=5)     0\n",
              "dtype: int64"
            ]
          },
          "execution_count": 80,
          "metadata": {},
          "output_type": "execute_result"
        }
      ],
      "source": [
        "data.isnull().sum()"
      ]
    },
    {
      "cell_type": "markdown",
      "metadata": {
        "id": "YrqlHJQ2zEYK"
      },
      "source": [
        "### Adding a 4th category for the biopsy result: (4=not performed) and dropping the column of the performance of the biopsy"
      ]
    },
    {
      "cell_type": "code",
      "execution_count": 81,
      "metadata": {
        "id": "9want9QQj4cz"
      },
      "outputs": [],
      "source": [
        "data['Resultado da Biópsia(normal=1/alterada=2/inconclusivo=3)'].fillna(4, inplace = True)"
      ]
    },
    {
      "cell_type": "code",
      "execution_count": 83,
      "metadata": {
        "id": "7vfLavhCkY-M"
      },
      "outputs": [],
      "source": [
        "data.drop(columns=['Biópsia (fez=1/nãofez=2)'], inplace = True)"
      ]
    },
    {
      "cell_type": "code",
      "execution_count": 84,
      "metadata": {
        "colab": {
          "base_uri": "https://localhost:8080/"
        },
        "id": "ivr2lky5klGM",
        "outputId": "ced87557-e7fe-430b-997f-bd03c68d51b5"
      },
      "outputs": [
        {
          "data": {
            "text/plain": [
              "IDADE ao exame                                                                                         0\n",
              "Duração da constipação até chegar ao serviço                                                           0\n",
              "Fez tratamento clínico antes da Manometria? (Sim=1/ não=2/desconhecido=3)                              0\n",
              "ANTECEDENTE CLÍNICO DO PACIENTE ( hígido=1/comorbidade=2/esconheciddo=3)                               0\n",
              "Manometria (normal=1/alterada=2/inconclusiva=3/não realizada=4)                                        0\n",
              "Resultado da Biópsia(normal=1/alterada=2/inconclusivo=3)                                               0\n",
              "Desfecho para o paciente em relação ao seguimento (mantém=1/alta=2/perdeu=3/óbito=4/desconhecido=5)    0\n",
              "dtype: int64"
            ]
          },
          "execution_count": 84,
          "metadata": {},
          "output_type": "execute_result"
        }
      ],
      "source": [
        "data.isnull().sum()"
      ]
    },
    {
      "cell_type": "markdown",
      "metadata": {
        "id": "VRbPuTlnzgDD"
      },
      "source": [
        "## Renaming columns"
      ]
    },
    {
      "cell_type": "code",
      "execution_count": 85,
      "metadata": {
        "id": "OaWPR4NikoL7"
      },
      "outputs": [],
      "source": [
        "data = data.rename({'Fez tratamento clínico antes da Manometria? (Sim=1/ não=2/desconhecido=3)':'Fez tratamento clínico antes da Manometria? (Sim=1/não=2/desconhecido=3)',\n",
        "                    'ANTECEDENTE CLÍNICO DO PACIENTE ( hígido=1/comorbidade=2/esconheciddo=3)':'ANTECEDENTE CLÍNICO DO PACIENTE (hígido=1/comorbidade=2/desconhecido=3)',\n",
        "                    'Resultado da Biópsia(normal=1/alterada=2/inconclusivo=3)':'Resultado da Biópsia (normal=1/alterada=2/inconclusivo=3/não realizada=4)'}, axis = 1)"
      ]
    },
    {
      "cell_type": "code",
      "execution_count": 86,
      "metadata": {
        "colab": {
          "base_uri": "https://localhost:8080/"
        },
        "id": "i_RAxeB0lNmM",
        "outputId": "1d1d9472-4ea2-46d7-8f73-ea04c6f25fc6"
      },
      "outputs": [
        {
          "data": {
            "text/plain": [
              "Index(['IDADE ao exame', 'Duração da constipação até chegar ao serviço',\n",
              "       'Fez tratamento clínico antes da Manometria? (Sim=1/não=2/desconhecido=3)',\n",
              "       'ANTECEDENTE CLÍNICO DO PACIENTE (hígido=1/comorbidade=2/desconhecido=3)',\n",
              "       'Manometria (normal=1/alterada=2/inconclusiva=3/não realizada=4)',\n",
              "       'Resultado da Biópsia (normal=1/alterada=2/inconclusivo=3/não realizada=4)',\n",
              "       'Desfecho para o paciente em relação ao seguimento (mantém=1/alta=2/perdeu=3/óbito=4/desconhecido=5)'],\n",
              "      dtype='object')"
            ]
          },
          "execution_count": 86,
          "metadata": {},
          "output_type": "execute_result"
        }
      ],
      "source": [
        "data.columns"
      ]
    },
    {
      "cell_type": "markdown",
      "metadata": {
        "id": "a260jKfNzl1c"
      },
      "source": [
        "## Applying Regular Expressions to extract the age os the children"
      ]
    },
    {
      "cell_type": "code",
      "execution_count": 87,
      "metadata": {
        "colab": {
          "base_uri": "https://localhost:8080/"
        },
        "id": "JyVfkjdCmJ-c",
        "outputId": "911cd203-a3f3-4100-e8ec-45dd9170f1d0"
      },
      "outputs": [
        {
          "data": {
            "text/plain": [
              "0      5\n",
              "1      8\n",
              "2     12\n",
              "3     11\n",
              "4      3\n",
              "      ..\n",
              "93    10\n",
              "94    12\n",
              "95    10\n",
              "96     7\n",
              "97    14\n",
              "Name: Idade em anos, Length: 98, dtype: object"
            ]
          },
          "execution_count": 87,
          "metadata": {},
          "output_type": "execute_result"
        }
      ],
      "source": [
        "data['Idade em anos'] = data['IDADE ao exame'].str.extract(pat = '(^[0-9]*)') #extraction of the age in years\n",
        "data['Idade em anos']"
      ]
    },
    {
      "cell_type": "code",
      "execution_count": 88,
      "metadata": {
        "colab": {
          "base_uri": "https://localhost:8080/"
        },
        "id": "wp0Xd98hpYQ9",
        "outputId": "c27e9308-12c9-4c9b-8db3-d2e68398eea0"
      },
      "outputs": [
        {
          "data": {
            "text/plain": [
              "15"
            ]
          },
          "execution_count": 88,
          "metadata": {},
          "output_type": "execute_result"
        }
      ],
      "source": [
        "data['Idade em meses'] = data['IDADE ao exame'].str.extract(pat = '(\\s[0-9]*)') #extraction of the age in months\n",
        "data['Idade em meses'].isnull().sum()"
      ]
    },
    {
      "cell_type": "code",
      "execution_count": 89,
      "metadata": {
        "colab": {
          "base_uri": "https://localhost:8080/"
        },
        "id": "xPY8bq4GBsl7",
        "outputId": "e852ff74-7192-47f1-a1c3-957d2f1b0d6c"
      },
      "outputs": [
        {
          "data": {
            "text/plain": [
              "0"
            ]
          },
          "execution_count": 89,
          "metadata": {},
          "output_type": "execute_result"
        }
      ],
      "source": [
        "data['Idade em meses'] = data['Idade em meses'].fillna('0')\n",
        "data['Idade em meses'].isnull().sum()"
      ]
    },
    {
      "cell_type": "markdown",
      "metadata": {
        "id": "MZ7w1D7J0A1r"
      },
      "source": [
        "### Taking out the spaces in the extract data and transform string in float"
      ]
    },
    {
      "cell_type": "code",
      "execution_count": 90,
      "metadata": {
        "id": "nhd-894CGhT8"
      },
      "outputs": [],
      "source": [
        "data['Idade em meses'] = data['Idade em meses'].str.extract(pat = '(\\S)')"
      ]
    },
    {
      "cell_type": "code",
      "execution_count": 91,
      "metadata": {
        "id": "64NA4c0ZIebI"
      },
      "outputs": [],
      "source": [
        "data['Idade em meses'] = data['Idade em meses'].astype(float)\n",
        "data['Idade em anos'] = data['Idade em anos'].astype(float)"
      ]
    },
    {
      "cell_type": "markdown",
      "metadata": {
        "id": "gzFc1OJk0-Sd"
      },
      "source": [
        "### Sum up to obtain the age at the examen"
      ]
    },
    {
      "cell_type": "code",
      "execution_count": 92,
      "metadata": {
        "id": "uec4bGH8MnKM"
      },
      "outputs": [],
      "source": [
        "data['Idade ao exame'] = (data['Idade em anos'] + data['Idade em meses']/12).round(2)"
      ]
    },
    {
      "cell_type": "code",
      "execution_count": 93,
      "metadata": {
        "id": "D9CZVQTgM0Hj"
      },
      "outputs": [],
      "source": [
        "data.drop(columns = ['IDADE ao exame', 'Idade em meses', 'Idade em anos'], inplace=True)"
      ]
    },
    {
      "cell_type": "markdown",
      "metadata": {
        "id": "df5CdG9R1Q_d"
      },
      "source": [
        "## Rearranging the columns"
      ]
    },
    {
      "cell_type": "code",
      "execution_count": 94,
      "metadata": {
        "id": "HtJdugtQOAya"
      },
      "outputs": [],
      "source": [
        "data = data[['Idade ao exame',\n",
        "     'Duração da constipação até chegar ao serviço',\n",
        "     'Fez tratamento clínico antes da Manometria? (Sim=1/não=2/desconhecido=3)',\n",
        "     'ANTECEDENTE CLÍNICO DO PACIENTE (hígido=1/comorbidade=2/desconhecido=3)',\n",
        "     'Manometria (normal=1/alterada=2/inconclusiva=3/não realizada=4)',\n",
        "     'Resultado da Biópsia (normal=1/alterada=2/inconclusivo=3/não realizada=4)',\n",
        "     'Desfecho para o paciente em relação ao seguimento (mantém=1/alta=2/perdeu=3/óbito=4/desconhecido=5)'\n",
        "]]"
      ]
    },
    {
      "cell_type": "markdown",
      "metadata": {
        "id": "-ieF08mr1gYh"
      },
      "source": [
        "## Use of Regular Expressions to saparate only the number in the Clinical History of the pacient"
      ]
    },
    {
      "cell_type": "code",
      "execution_count": 95,
      "metadata": {
        "id": "P-qRKtXlOWQD"
      },
      "outputs": [],
      "source": [
        "data['ANTECEDENTE CLÍNICO DO PACIENTE (hígido=1/comorbidade=2/desconhecido=3)'] = data['ANTECEDENTE CLÍNICO DO PACIENTE (hígido=1/comorbidade=2/desconhecido=3)'].astype(str)"
      ]
    },
    {
      "cell_type": "code",
      "execution_count": 96,
      "metadata": {
        "id": "X6UOmDp-Uf33"
      },
      "outputs": [],
      "source": [
        "data['ANTECEDENTE CLÍNICO DO PACIENTE (hígido=1/comorbidade=2/desconhecido=3)'] = data['ANTECEDENTE CLÍNICO DO PACIENTE (hígido=1/comorbidade=2/desconhecido=3)'].str.extract(pat = '([0-9])')"
      ]
    },
    {
      "cell_type": "code",
      "execution_count": 97,
      "metadata": {
        "id": "5HR8E1OpSkY8"
      },
      "outputs": [],
      "source": [
        "data['ANTECEDENTE CLÍNICO DO PACIENTE (hígido=1/comorbidade=2/desconhecido=3)'] = data['ANTECEDENTE CLÍNICO DO PACIENTE (hígido=1/comorbidade=2/desconhecido=3)'].astype(int)"
      ]
    },
    {
      "cell_type": "code",
      "execution_count": 98,
      "metadata": {
        "colab": {
          "base_uri": "https://localhost:8080/",
          "height": 0
        },
        "id": "LejXnJblUzK1",
        "outputId": "0c02dc4f-fcfb-4b31-e46b-1bdcdd648ad1"
      },
      "outputs": [
        {
          "data": {
            "text/html": [
              "<div>\n",
              "<style scoped>\n",
              "    .dataframe tbody tr th:only-of-type {\n",
              "        vertical-align: middle;\n",
              "    }\n",
              "\n",
              "    .dataframe tbody tr th {\n",
              "        vertical-align: top;\n",
              "    }\n",
              "\n",
              "    .dataframe thead th {\n",
              "        text-align: right;\n",
              "    }\n",
              "</style>\n",
              "<table border=\"1\" class=\"dataframe\">\n",
              "  <thead>\n",
              "    <tr style=\"text-align: right;\">\n",
              "      <th></th>\n",
              "      <th>Idade ao exame</th>\n",
              "      <th>Duração da constipação até chegar ao serviço</th>\n",
              "      <th>Fez tratamento clínico antes da Manometria? (Sim=1/não=2/desconhecido=3)</th>\n",
              "      <th>ANTECEDENTE CLÍNICO DO PACIENTE (hígido=1/comorbidade=2/desconhecido=3)</th>\n",
              "      <th>Manometria (normal=1/alterada=2/inconclusiva=3/não realizada=4)</th>\n",
              "      <th>Resultado da Biópsia (normal=1/alterada=2/inconclusivo=3/não realizada=4)</th>\n",
              "      <th>Desfecho para o paciente em relação ao seguimento (mantém=1/alta=2/perdeu=3/óbito=4/desconhecido=5)</th>\n",
              "    </tr>\n",
              "  </thead>\n",
              "  <tbody>\n",
              "    <tr>\n",
              "      <th>0</th>\n",
              "      <td>5.00</td>\n",
              "      <td>7 dias</td>\n",
              "      <td>1.0</td>\n",
              "      <td>2</td>\n",
              "      <td>1.0</td>\n",
              "      <td>4.0</td>\n",
              "      <td>1.0</td>\n",
              "    </tr>\n",
              "    <tr>\n",
              "      <th>1</th>\n",
              "      <td>8.58</td>\n",
              "      <td>desde o nascimento</td>\n",
              "      <td>1.0</td>\n",
              "      <td>2</td>\n",
              "      <td>1.0</td>\n",
              "      <td>4.0</td>\n",
              "      <td>2.0</td>\n",
              "    </tr>\n",
              "    <tr>\n",
              "      <th>2</th>\n",
              "      <td>12.08</td>\n",
              "      <td>desde o nascimento</td>\n",
              "      <td>1.0</td>\n",
              "      <td>2</td>\n",
              "      <td>2.0</td>\n",
              "      <td>4.0</td>\n",
              "      <td>3.0</td>\n",
              "    </tr>\n",
              "    <tr>\n",
              "      <th>3</th>\n",
              "      <td>11.25</td>\n",
              "      <td>desde os 9 anos</td>\n",
              "      <td>1.0</td>\n",
              "      <td>1</td>\n",
              "      <td>1.0</td>\n",
              "      <td>4.0</td>\n",
              "      <td>2.0</td>\n",
              "    </tr>\n",
              "    <tr>\n",
              "      <th>4</th>\n",
              "      <td>3.17</td>\n",
              "      <td>desde os 2 anos de idade</td>\n",
              "      <td>1.0</td>\n",
              "      <td>2</td>\n",
              "      <td>1.0</td>\n",
              "      <td>4.0</td>\n",
              "      <td>1.0</td>\n",
              "    </tr>\n",
              "  </tbody>\n",
              "</table>\n",
              "</div>"
            ],
            "text/plain": [
              "   Idade ao exame Duração da constipação até chegar ao serviço  \\\n",
              "0            5.00                                       7 dias   \n",
              "1            8.58                           desde o nascimento   \n",
              "2           12.08                           desde o nascimento   \n",
              "3           11.25                              desde os 9 anos   \n",
              "4            3.17                     desde os 2 anos de idade   \n",
              "\n",
              "   Fez tratamento clínico antes da Manometria? (Sim=1/não=2/desconhecido=3)  \\\n",
              "0                                                1.0                          \n",
              "1                                                1.0                          \n",
              "2                                                1.0                          \n",
              "3                                                1.0                          \n",
              "4                                                1.0                          \n",
              "\n",
              "   ANTECEDENTE CLÍNICO DO PACIENTE (hígido=1/comorbidade=2/desconhecido=3)  \\\n",
              "0                                                  2                         \n",
              "1                                                  2                         \n",
              "2                                                  2                         \n",
              "3                                                  1                         \n",
              "4                                                  2                         \n",
              "\n",
              "   Manometria (normal=1/alterada=2/inconclusiva=3/não realizada=4)  \\\n",
              "0                                                1.0                 \n",
              "1                                                1.0                 \n",
              "2                                                2.0                 \n",
              "3                                                1.0                 \n",
              "4                                                1.0                 \n",
              "\n",
              "   Resultado da Biópsia (normal=1/alterada=2/inconclusivo=3/não realizada=4)  \\\n",
              "0                                                4.0                           \n",
              "1                                                4.0                           \n",
              "2                                                4.0                           \n",
              "3                                                4.0                           \n",
              "4                                                4.0                           \n",
              "\n",
              "   Desfecho para o paciente em relação ao seguimento (mantém=1/alta=2/perdeu=3/óbito=4/desconhecido=5)  \n",
              "0                                                1.0                                                    \n",
              "1                                                2.0                                                    \n",
              "2                                                3.0                                                    \n",
              "3                                                2.0                                                    \n",
              "4                                                1.0                                                    "
            ]
          },
          "execution_count": 98,
          "metadata": {},
          "output_type": "execute_result"
        }
      ],
      "source": [
        "data.head()"
      ]
    },
    {
      "cell_type": "markdown",
      "metadata": {
        "id": "hrcdPbLD15BA"
      },
      "source": [
        "## Transforming the duration of the constipation in numbers"
      ]
    },
    {
      "cell_type": "code",
      "execution_count": 99,
      "metadata": {
        "colab": {
          "base_uri": "https://localhost:8080/"
        },
        "id": "kVm-fQ7kU0js",
        "outputId": "f17e8948-4880-4290-9a61-ffd59be891ec"
      },
      "outputs": [
        {
          "data": {
            "text/plain": [
              "count                     98\n",
              "unique                    55\n",
              "top       desde o nascimento\n",
              "freq                      22\n",
              "Name: Duração da constipação até chegar ao serviço, dtype: object"
            ]
          },
          "execution_count": 99,
          "metadata": {},
          "output_type": "execute_result"
        }
      ],
      "source": [
        "data['Duração da constipação até chegar ao serviço'].describe(include='O')"
      ]
    },
    {
      "cell_type": "code",
      "execution_count": 100,
      "metadata": {
        "colab": {
          "base_uri": "https://localhost:8080/",
          "height": 0
        },
        "id": "S7-LmV7biiPy",
        "outputId": "139c790f-7b10-4488-d389-ae3cca1817ab"
      },
      "outputs": [
        {
          "data": {
            "text/html": [
              "<div>\n",
              "<style scoped>\n",
              "    .dataframe tbody tr th:only-of-type {\n",
              "        vertical-align: middle;\n",
              "    }\n",
              "\n",
              "    .dataframe tbody tr th {\n",
              "        vertical-align: top;\n",
              "    }\n",
              "\n",
              "    .dataframe thead th {\n",
              "        text-align: right;\n",
              "    }\n",
              "</style>\n",
              "<table border=\"1\" class=\"dataframe\">\n",
              "  <thead>\n",
              "    <tr style=\"text-align: right;\">\n",
              "      <th></th>\n",
              "      <th>Idade ao exame</th>\n",
              "      <th>Fez tratamento clínico antes da Manometria? (Sim=1/não=2/desconhecido=3)</th>\n",
              "      <th>ANTECEDENTE CLÍNICO DO PACIENTE (hígido=1/comorbidade=2/desconhecido=3)</th>\n",
              "      <th>Manometria (normal=1/alterada=2/inconclusiva=3/não realizada=4)</th>\n",
              "      <th>Resultado da Biópsia (normal=1/alterada=2/inconclusivo=3/não realizada=4)</th>\n",
              "      <th>Desfecho para o paciente em relação ao seguimento (mantém=1/alta=2/perdeu=3/óbito=4/desconhecido=5)</th>\n",
              "    </tr>\n",
              "    <tr>\n",
              "      <th>Duração da constipação até chegar ao serviço</th>\n",
              "      <th></th>\n",
              "      <th></th>\n",
              "      <th></th>\n",
              "      <th></th>\n",
              "      <th></th>\n",
              "      <th></th>\n",
              "    </tr>\n",
              "  </thead>\n",
              "  <tbody>\n",
              "    <tr>\n",
              "      <th>30 dias</th>\n",
              "      <td>1</td>\n",
              "      <td>1</td>\n",
              "      <td>1</td>\n",
              "      <td>1</td>\n",
              "      <td>1</td>\n",
              "      <td>1</td>\n",
              "    </tr>\n",
              "    <tr>\n",
              "      <th>7 dias</th>\n",
              "      <td>1</td>\n",
              "      <td>1</td>\n",
              "      <td>1</td>\n",
              "      <td>1</td>\n",
              "      <td>1</td>\n",
              "      <td>1</td>\n",
              "    </tr>\n",
              "    <tr>\n",
              "      <th>Desde o começo da infância</th>\n",
              "      <td>1</td>\n",
              "      <td>1</td>\n",
              "      <td>1</td>\n",
              "      <td>1</td>\n",
              "      <td>1</td>\n",
              "      <td>1</td>\n",
              "    </tr>\n",
              "    <tr>\n",
              "      <th>Desde o período neonatal</th>\n",
              "      <td>2</td>\n",
              "      <td>2</td>\n",
              "      <td>2</td>\n",
              "      <td>2</td>\n",
              "      <td>2</td>\n",
              "      <td>2</td>\n",
              "    </tr>\n",
              "    <tr>\n",
              "      <th>HÁ 5 ANOS (DESDE ANTES DOS 6 MESES DE VIDA)</th>\n",
              "      <td>1</td>\n",
              "      <td>1</td>\n",
              "      <td>1</td>\n",
              "      <td>1</td>\n",
              "      <td>1</td>\n",
              "      <td>1</td>\n",
              "    </tr>\n",
              "    <tr>\n",
              "      <th>Há 1 mês</th>\n",
              "      <td>1</td>\n",
              "      <td>1</td>\n",
              "      <td>1</td>\n",
              "      <td>1</td>\n",
              "      <td>1</td>\n",
              "      <td>1</td>\n",
              "    </tr>\n",
              "    <tr>\n",
              "      <th>Há 5 anos</th>\n",
              "      <td>1</td>\n",
              "      <td>1</td>\n",
              "      <td>1</td>\n",
              "      <td>1</td>\n",
              "      <td>1</td>\n",
              "      <td>1</td>\n",
              "    </tr>\n",
              "    <tr>\n",
              "      <th>Há 5 anose 8 meses</th>\n",
              "      <td>1</td>\n",
              "      <td>1</td>\n",
              "      <td>1</td>\n",
              "      <td>1</td>\n",
              "      <td>1</td>\n",
              "      <td>1</td>\n",
              "    </tr>\n",
              "    <tr>\n",
              "      <th>Há 6 anos (DESDE OS 5 ANOS DE IDADE)</th>\n",
              "      <td>1</td>\n",
              "      <td>1</td>\n",
              "      <td>1</td>\n",
              "      <td>1</td>\n",
              "      <td>1</td>\n",
              "      <td>1</td>\n",
              "    </tr>\n",
              "    <tr>\n",
              "      <th>Por volta de 1 anos de idade</th>\n",
              "      <td>1</td>\n",
              "      <td>1</td>\n",
              "      <td>1</td>\n",
              "      <td>1</td>\n",
              "      <td>1</td>\n",
              "      <td>1</td>\n",
              "    </tr>\n",
              "    <tr>\n",
              "      <th>antes de 1 ano de idade</th>\n",
              "      <td>1</td>\n",
              "      <td>1</td>\n",
              "      <td>1</td>\n",
              "      <td>1</td>\n",
              "      <td>1</td>\n",
              "      <td>1</td>\n",
              "    </tr>\n",
              "    <tr>\n",
              "      <th>antes dos 7 meses de idade</th>\n",
              "      <td>1</td>\n",
              "      <td>1</td>\n",
              "      <td>1</td>\n",
              "      <td>1</td>\n",
              "      <td>1</td>\n",
              "      <td>1</td>\n",
              "    </tr>\n",
              "    <tr>\n",
              "      <th>aos 2 anos de idade</th>\n",
              "      <td>1</td>\n",
              "      <td>1</td>\n",
              "      <td>1</td>\n",
              "      <td>1</td>\n",
              "      <td>1</td>\n",
              "      <td>1</td>\n",
              "    </tr>\n",
              "    <tr>\n",
              "      <th>aos 3 anos de idade</th>\n",
              "      <td>1</td>\n",
              "      <td>1</td>\n",
              "      <td>1</td>\n",
              "      <td>1</td>\n",
              "      <td>1</td>\n",
              "      <td>1</td>\n",
              "    </tr>\n",
              "    <tr>\n",
              "      <th>desconhecido</th>\n",
              "      <td>4</td>\n",
              "      <td>4</td>\n",
              "      <td>4</td>\n",
              "      <td>4</td>\n",
              "      <td>4</td>\n",
              "      <td>4</td>\n",
              "    </tr>\n",
              "    <tr>\n",
              "      <th>desde 1 ano de idade</th>\n",
              "      <td>3</td>\n",
              "      <td>3</td>\n",
              "      <td>3</td>\n",
              "      <td>3</td>\n",
              "      <td>3</td>\n",
              "      <td>3</td>\n",
              "    </tr>\n",
              "    <tr>\n",
              "      <th>desde 1 mês de vida</th>\n",
              "      <td>0</td>\n",
              "      <td>1</td>\n",
              "      <td>1</td>\n",
              "      <td>1</td>\n",
              "      <td>1</td>\n",
              "      <td>1</td>\n",
              "    </tr>\n",
              "    <tr>\n",
              "      <th>desde 2 anos e 5 meses</th>\n",
              "      <td>1</td>\n",
              "      <td>1</td>\n",
              "      <td>1</td>\n",
              "      <td>1</td>\n",
              "      <td>1</td>\n",
              "      <td>1</td>\n",
              "    </tr>\n",
              "    <tr>\n",
              "      <th>desde antes dos 2 anos de idade</th>\n",
              "      <td>1</td>\n",
              "      <td>1</td>\n",
              "      <td>1</td>\n",
              "      <td>1</td>\n",
              "      <td>1</td>\n",
              "      <td>1</td>\n",
              "    </tr>\n",
              "    <tr>\n",
              "      <th>desde nascimento</th>\n",
              "      <td>1</td>\n",
              "      <td>1</td>\n",
              "      <td>1</td>\n",
              "      <td>1</td>\n",
              "      <td>1</td>\n",
              "      <td>1</td>\n",
              "    </tr>\n",
              "    <tr>\n",
              "      <th>desde nov/2014</th>\n",
              "      <td>1</td>\n",
              "      <td>1</td>\n",
              "      <td>1</td>\n",
              "      <td>1</td>\n",
              "      <td>1</td>\n",
              "      <td>1</td>\n",
              "    </tr>\n",
              "    <tr>\n",
              "      <th>desde o nascimento</th>\n",
              "      <td>22</td>\n",
              "      <td>22</td>\n",
              "      <td>22</td>\n",
              "      <td>22</td>\n",
              "      <td>22</td>\n",
              "      <td>22</td>\n",
              "    </tr>\n",
              "    <tr>\n",
              "      <th>desde o período de lactente</th>\n",
              "      <td>1</td>\n",
              "      <td>1</td>\n",
              "      <td>1</td>\n",
              "      <td>1</td>\n",
              "      <td>1</td>\n",
              "      <td>1</td>\n",
              "    </tr>\n",
              "    <tr>\n",
              "      <th>desde o período neonal</th>\n",
              "      <td>1</td>\n",
              "      <td>1</td>\n",
              "      <td>1</td>\n",
              "      <td>1</td>\n",
              "      <td>1</td>\n",
              "      <td>1</td>\n",
              "    </tr>\n",
              "    <tr>\n",
              "      <th>desde o período neonatal</th>\n",
              "      <td>2</td>\n",
              "      <td>2</td>\n",
              "      <td>2</td>\n",
              "      <td>2</td>\n",
              "      <td>2</td>\n",
              "      <td>2</td>\n",
              "    </tr>\n",
              "    <tr>\n",
              "      <th>desde os 12 anos</th>\n",
              "      <td>1</td>\n",
              "      <td>1</td>\n",
              "      <td>1</td>\n",
              "      <td>1</td>\n",
              "      <td>1</td>\n",
              "      <td>1</td>\n",
              "    </tr>\n",
              "    <tr>\n",
              "      <th>desde os 2 anos de idade</th>\n",
              "      <td>2</td>\n",
              "      <td>2</td>\n",
              "      <td>2</td>\n",
              "      <td>2</td>\n",
              "      <td>2</td>\n",
              "      <td>2</td>\n",
              "    </tr>\n",
              "    <tr>\n",
              "      <th>desde os 2 meses</th>\n",
              "      <td>1</td>\n",
              "      <td>1</td>\n",
              "      <td>1</td>\n",
              "      <td>1</td>\n",
              "      <td>1</td>\n",
              "      <td>1</td>\n",
              "    </tr>\n",
              "    <tr>\n",
              "      <th>desde os 2 meses de idade</th>\n",
              "      <td>1</td>\n",
              "      <td>1</td>\n",
              "      <td>1</td>\n",
              "      <td>1</td>\n",
              "      <td>1</td>\n",
              "      <td>1</td>\n",
              "    </tr>\n",
              "    <tr>\n",
              "      <th>desde os 2 meses de vida</th>\n",
              "      <td>1</td>\n",
              "      <td>1</td>\n",
              "      <td>1</td>\n",
              "      <td>1</td>\n",
              "      <td>1</td>\n",
              "      <td>1</td>\n",
              "    </tr>\n",
              "    <tr>\n",
              "      <th>desde os 2- 3 anos de idade</th>\n",
              "      <td>1</td>\n",
              "      <td>1</td>\n",
              "      <td>1</td>\n",
              "      <td>1</td>\n",
              "      <td>1</td>\n",
              "      <td>1</td>\n",
              "    </tr>\n",
              "    <tr>\n",
              "      <th>desde os 3 anos de idade</th>\n",
              "      <td>3</td>\n",
              "      <td>3</td>\n",
              "      <td>3</td>\n",
              "      <td>3</td>\n",
              "      <td>3</td>\n",
              "      <td>3</td>\n",
              "    </tr>\n",
              "    <tr>\n",
              "      <th>desde os 3 meses de idade</th>\n",
              "      <td>1</td>\n",
              "      <td>1</td>\n",
              "      <td>1</td>\n",
              "      <td>1</td>\n",
              "      <td>1</td>\n",
              "      <td>1</td>\n",
              "    </tr>\n",
              "    <tr>\n",
              "      <th>desde os 3 meses de vida</th>\n",
              "      <td>2</td>\n",
              "      <td>2</td>\n",
              "      <td>2</td>\n",
              "      <td>2</td>\n",
              "      <td>2</td>\n",
              "      <td>2</td>\n",
              "    </tr>\n",
              "    <tr>\n",
              "      <th>desde os 4 anos de idade</th>\n",
              "      <td>2</td>\n",
              "      <td>2</td>\n",
              "      <td>2</td>\n",
              "      <td>2</td>\n",
              "      <td>2</td>\n",
              "      <td>2</td>\n",
              "    </tr>\n",
              "    <tr>\n",
              "      <th>desde os 4 meses de idade</th>\n",
              "      <td>2</td>\n",
              "      <td>2</td>\n",
              "      <td>2</td>\n",
              "      <td>2</td>\n",
              "      <td>2</td>\n",
              "      <td>2</td>\n",
              "    </tr>\n",
              "    <tr>\n",
              "      <th>desde os 5 anos de idade</th>\n",
              "      <td>1</td>\n",
              "      <td>1</td>\n",
              "      <td>1</td>\n",
              "      <td>1</td>\n",
              "      <td>1</td>\n",
              "      <td>1</td>\n",
              "    </tr>\n",
              "    <tr>\n",
              "      <th>desde os 6 anos (á 4 anos)</th>\n",
              "      <td>1</td>\n",
              "      <td>1</td>\n",
              "      <td>1</td>\n",
              "      <td>1</td>\n",
              "      <td>1</td>\n",
              "      <td>1</td>\n",
              "    </tr>\n",
              "    <tr>\n",
              "      <th>desde os 6 meses</th>\n",
              "      <td>1</td>\n",
              "      <td>1</td>\n",
              "      <td>1</td>\n",
              "      <td>1</td>\n",
              "      <td>1</td>\n",
              "      <td>1</td>\n",
              "    </tr>\n",
              "    <tr>\n",
              "      <th>desde os 6 meses de idade</th>\n",
              "      <td>1</td>\n",
              "      <td>1</td>\n",
              "      <td>1</td>\n",
              "      <td>1</td>\n",
              "      <td>1</td>\n",
              "      <td>1</td>\n",
              "    </tr>\n",
              "    <tr>\n",
              "      <th>desde os 7 meses de vida</th>\n",
              "      <td>1</td>\n",
              "      <td>1</td>\n",
              "      <td>1</td>\n",
              "      <td>1</td>\n",
              "      <td>1</td>\n",
              "      <td>1</td>\n",
              "    </tr>\n",
              "    <tr>\n",
              "      <th>desde os 8 anos de idade</th>\n",
              "      <td>1</td>\n",
              "      <td>1</td>\n",
              "      <td>1</td>\n",
              "      <td>1</td>\n",
              "      <td>1</td>\n",
              "      <td>1</td>\n",
              "    </tr>\n",
              "    <tr>\n",
              "      <th>desde os 8 meses de idade</th>\n",
              "      <td>2</td>\n",
              "      <td>2</td>\n",
              "      <td>2</td>\n",
              "      <td>2</td>\n",
              "      <td>2</td>\n",
              "      <td>2</td>\n",
              "    </tr>\n",
              "    <tr>\n",
              "      <th>desde os 9 anos</th>\n",
              "      <td>2</td>\n",
              "      <td>2</td>\n",
              "      <td>2</td>\n",
              "      <td>2</td>\n",
              "      <td>2</td>\n",
              "      <td>2</td>\n",
              "    </tr>\n",
              "    <tr>\n",
              "      <th>desde os 9 meses</th>\n",
              "      <td>1</td>\n",
              "      <td>1</td>\n",
              "      <td>1</td>\n",
              "      <td>1</td>\n",
              "      <td>1</td>\n",
              "      <td>1</td>\n",
              "    </tr>\n",
              "    <tr>\n",
              "      <th>desde os 9a nos de idade</th>\n",
              "      <td>1</td>\n",
              "      <td>1</td>\n",
              "      <td>1</td>\n",
              "      <td>1</td>\n",
              "      <td>1</td>\n",
              "      <td>1</td>\n",
              "    </tr>\n",
              "    <tr>\n",
              "      <th>desde os dois meses de vida</th>\n",
              "      <td>1</td>\n",
              "      <td>1</td>\n",
              "      <td>1</td>\n",
              "      <td>1</td>\n",
              "      <td>1</td>\n",
              "      <td>1</td>\n",
              "    </tr>\n",
              "    <tr>\n",
              "      <th>desde período neonatal</th>\n",
              "      <td>1</td>\n",
              "      <td>1</td>\n",
              "      <td>1</td>\n",
              "      <td>1</td>\n",
              "      <td>1</td>\n",
              "      <td>1</td>\n",
              "    </tr>\n",
              "    <tr>\n",
              "      <th>desde que era pequena</th>\n",
              "      <td>1</td>\n",
              "      <td>1</td>\n",
              "      <td>1</td>\n",
              "      <td>1</td>\n",
              "      <td>1</td>\n",
              "      <td>1</td>\n",
              "    </tr>\n",
              "    <tr>\n",
              "      <th>há 1 ano</th>\n",
              "      <td>1</td>\n",
              "      <td>1</td>\n",
              "      <td>1</td>\n",
              "      <td>1</td>\n",
              "      <td>1</td>\n",
              "      <td>1</td>\n",
              "    </tr>\n",
              "    <tr>\n",
              "      <th>há 2 meses</th>\n",
              "      <td>1</td>\n",
              "      <td>1</td>\n",
              "      <td>1</td>\n",
              "      <td>1</td>\n",
              "      <td>1</td>\n",
              "      <td>1</td>\n",
              "    </tr>\n",
              "    <tr>\n",
              "      <th>não consta</th>\n",
              "      <td>1</td>\n",
              "      <td>1</td>\n",
              "      <td>1</td>\n",
              "      <td>1</td>\n",
              "      <td>1</td>\n",
              "      <td>1</td>\n",
              "    </tr>\n",
              "    <tr>\n",
              "      <th>paciente com distensão abdominal durante internação</th>\n",
              "      <td>1</td>\n",
              "      <td>1</td>\n",
              "      <td>1</td>\n",
              "      <td>1</td>\n",
              "      <td>1</td>\n",
              "      <td>1</td>\n",
              "    </tr>\n",
              "    <tr>\n",
              "      <th>período neonatal</th>\n",
              "      <td>1</td>\n",
              "      <td>1</td>\n",
              "      <td>1</td>\n",
              "      <td>1</td>\n",
              "      <td>1</td>\n",
              "      <td>1</td>\n",
              "    </tr>\n",
              "    <tr>\n",
              "      <th>sem informação</th>\n",
              "      <td>8</td>\n",
              "      <td>8</td>\n",
              "      <td>8</td>\n",
              "      <td>8</td>\n",
              "      <td>8</td>\n",
              "      <td>8</td>\n",
              "    </tr>\n",
              "  </tbody>\n",
              "</table>\n",
              "</div>"
            ],
            "text/plain": [
              "                                                    Idade ao exame  \\\n",
              "Duração da constipação até chegar ao serviço                         \n",
              "30 dias                                                          1   \n",
              "7 dias                                                           1   \n",
              "Desde o começo da infância                                       1   \n",
              "Desde o período neonatal                                         2   \n",
              "HÁ 5 ANOS (DESDE ANTES DOS 6 MESES DE VIDA)                      1   \n",
              "Há 1 mês                                                         1   \n",
              "Há 5 anos                                                        1   \n",
              "Há 5 anose 8 meses                                               1   \n",
              "Há 6 anos (DESDE OS 5 ANOS DE IDADE)                             1   \n",
              "Por volta de 1 anos de idade                                     1   \n",
              "antes de 1 ano de idade                                          1   \n",
              "antes dos 7 meses de idade                                       1   \n",
              "aos 2 anos de idade                                              1   \n",
              "aos 3 anos de idade                                              1   \n",
              "desconhecido                                                     4   \n",
              "desde 1 ano de idade                                             3   \n",
              "desde 1 mês de vida                                              0   \n",
              "desde 2 anos e 5 meses                                           1   \n",
              "desde antes dos 2 anos de idade                                  1   \n",
              "desde nascimento                                                 1   \n",
              "desde nov/2014                                                   1   \n",
              "desde o nascimento                                              22   \n",
              "desde o período de lactente                                      1   \n",
              "desde o período neonal                                           1   \n",
              "desde o período neonatal                                         2   \n",
              "desde os 12 anos                                                 1   \n",
              "desde os 2 anos de idade                                         2   \n",
              "desde os 2 meses                                                 1   \n",
              "desde os 2 meses de idade                                        1   \n",
              "desde os 2 meses de vida                                         1   \n",
              "desde os 2- 3 anos de idade                                      1   \n",
              "desde os 3 anos de idade                                         3   \n",
              "desde os 3 meses de idade                                        1   \n",
              "desde os 3 meses de vida                                         2   \n",
              "desde os 4 anos de idade                                         2   \n",
              "desde os 4 meses de idade                                        2   \n",
              "desde os 5 anos de idade                                         1   \n",
              "desde os 6 anos (á 4 anos)                                       1   \n",
              "desde os 6 meses                                                 1   \n",
              "desde os 6 meses de idade                                        1   \n",
              "desde os 7 meses de vida                                         1   \n",
              "desde os 8 anos de idade                                         1   \n",
              "desde os 8 meses de idade                                        2   \n",
              "desde os 9 anos                                                  2   \n",
              "desde os 9 meses                                                 1   \n",
              "desde os 9a nos de idade                                         1   \n",
              "desde os dois meses de vida                                      1   \n",
              "desde período neonatal                                           1   \n",
              "desde que era pequena                                            1   \n",
              "há 1 ano                                                         1   \n",
              "há 2 meses                                                       1   \n",
              "não consta                                                       1   \n",
              "paciente com distensão abdominal durante intern...               1   \n",
              "período neonatal                                                 1   \n",
              "sem informação                                                   8   \n",
              "\n",
              "                                                    Fez tratamento clínico antes da Manometria? (Sim=1/não=2/desconhecido=3)  \\\n",
              "Duração da constipação até chegar ao serviço                                                                                   \n",
              "30 dias                                                                                             1                          \n",
              "7 dias                                                                                              1                          \n",
              "Desde o começo da infância                                                                          1                          \n",
              "Desde o período neonatal                                                                            2                          \n",
              "HÁ 5 ANOS (DESDE ANTES DOS 6 MESES DE VIDA)                                                         1                          \n",
              "Há 1 mês                                                                                            1                          \n",
              "Há 5 anos                                                                                           1                          \n",
              "Há 5 anose 8 meses                                                                                  1                          \n",
              "Há 6 anos (DESDE OS 5 ANOS DE IDADE)                                                                1                          \n",
              "Por volta de 1 anos de idade                                                                        1                          \n",
              "antes de 1 ano de idade                                                                             1                          \n",
              "antes dos 7 meses de idade                                                                          1                          \n",
              "aos 2 anos de idade                                                                                 1                          \n",
              "aos 3 anos de idade                                                                                 1                          \n",
              "desconhecido                                                                                        4                          \n",
              "desde 1 ano de idade                                                                                3                          \n",
              "desde 1 mês de vida                                                                                 1                          \n",
              "desde 2 anos e 5 meses                                                                              1                          \n",
              "desde antes dos 2 anos de idade                                                                     1                          \n",
              "desde nascimento                                                                                    1                          \n",
              "desde nov/2014                                                                                      1                          \n",
              "desde o nascimento                                                                                 22                          \n",
              "desde o período de lactente                                                                         1                          \n",
              "desde o período neonal                                                                              1                          \n",
              "desde o período neonatal                                                                            2                          \n",
              "desde os 12 anos                                                                                    1                          \n",
              "desde os 2 anos de idade                                                                            2                          \n",
              "desde os 2 meses                                                                                    1                          \n",
              "desde os 2 meses de idade                                                                           1                          \n",
              "desde os 2 meses de vida                                                                            1                          \n",
              "desde os 2- 3 anos de idade                                                                         1                          \n",
              "desde os 3 anos de idade                                                                            3                          \n",
              "desde os 3 meses de idade                                                                           1                          \n",
              "desde os 3 meses de vida                                                                            2                          \n",
              "desde os 4 anos de idade                                                                            2                          \n",
              "desde os 4 meses de idade                                                                           2                          \n",
              "desde os 5 anos de idade                                                                            1                          \n",
              "desde os 6 anos (á 4 anos)                                                                          1                          \n",
              "desde os 6 meses                                                                                    1                          \n",
              "desde os 6 meses de idade                                                                           1                          \n",
              "desde os 7 meses de vida                                                                            1                          \n",
              "desde os 8 anos de idade                                                                            1                          \n",
              "desde os 8 meses de idade                                                                           2                          \n",
              "desde os 9 anos                                                                                     2                          \n",
              "desde os 9 meses                                                                                    1                          \n",
              "desde os 9a nos de idade                                                                            1                          \n",
              "desde os dois meses de vida                                                                         1                          \n",
              "desde período neonatal                                                                              1                          \n",
              "desde que era pequena                                                                               1                          \n",
              "há 1 ano                                                                                            1                          \n",
              "há 2 meses                                                                                          1                          \n",
              "não consta                                                                                          1                          \n",
              "paciente com distensão abdominal durante intern...                                                  1                          \n",
              "período neonatal                                                                                    1                          \n",
              "sem informação                                                                                      8                          \n",
              "\n",
              "                                                    ANTECEDENTE CLÍNICO DO PACIENTE (hígido=1/comorbidade=2/desconhecido=3)  \\\n",
              "Duração da constipação até chegar ao serviço                                                                                  \n",
              "30 dias                                                                                             1                         \n",
              "7 dias                                                                                              1                         \n",
              "Desde o começo da infância                                                                          1                         \n",
              "Desde o período neonatal                                                                            2                         \n",
              "HÁ 5 ANOS (DESDE ANTES DOS 6 MESES DE VIDA)                                                         1                         \n",
              "Há 1 mês                                                                                            1                         \n",
              "Há 5 anos                                                                                           1                         \n",
              "Há 5 anose 8 meses                                                                                  1                         \n",
              "Há 6 anos (DESDE OS 5 ANOS DE IDADE)                                                                1                         \n",
              "Por volta de 1 anos de idade                                                                        1                         \n",
              "antes de 1 ano de idade                                                                             1                         \n",
              "antes dos 7 meses de idade                                                                          1                         \n",
              "aos 2 anos de idade                                                                                 1                         \n",
              "aos 3 anos de idade                                                                                 1                         \n",
              "desconhecido                                                                                        4                         \n",
              "desde 1 ano de idade                                                                                3                         \n",
              "desde 1 mês de vida                                                                                 1                         \n",
              "desde 2 anos e 5 meses                                                                              1                         \n",
              "desde antes dos 2 anos de idade                                                                     1                         \n",
              "desde nascimento                                                                                    1                         \n",
              "desde nov/2014                                                                                      1                         \n",
              "desde o nascimento                                                                                 22                         \n",
              "desde o período de lactente                                                                         1                         \n",
              "desde o período neonal                                                                              1                         \n",
              "desde o período neonatal                                                                            2                         \n",
              "desde os 12 anos                                                                                    1                         \n",
              "desde os 2 anos de idade                                                                            2                         \n",
              "desde os 2 meses                                                                                    1                         \n",
              "desde os 2 meses de idade                                                                           1                         \n",
              "desde os 2 meses de vida                                                                            1                         \n",
              "desde os 2- 3 anos de idade                                                                         1                         \n",
              "desde os 3 anos de idade                                                                            3                         \n",
              "desde os 3 meses de idade                                                                           1                         \n",
              "desde os 3 meses de vida                                                                            2                         \n",
              "desde os 4 anos de idade                                                                            2                         \n",
              "desde os 4 meses de idade                                                                           2                         \n",
              "desde os 5 anos de idade                                                                            1                         \n",
              "desde os 6 anos (á 4 anos)                                                                          1                         \n",
              "desde os 6 meses                                                                                    1                         \n",
              "desde os 6 meses de idade                                                                           1                         \n",
              "desde os 7 meses de vida                                                                            1                         \n",
              "desde os 8 anos de idade                                                                            1                         \n",
              "desde os 8 meses de idade                                                                           2                         \n",
              "desde os 9 anos                                                                                     2                         \n",
              "desde os 9 meses                                                                                    1                         \n",
              "desde os 9a nos de idade                                                                            1                         \n",
              "desde os dois meses de vida                                                                         1                         \n",
              "desde período neonatal                                                                              1                         \n",
              "desde que era pequena                                                                               1                         \n",
              "há 1 ano                                                                                            1                         \n",
              "há 2 meses                                                                                          1                         \n",
              "não consta                                                                                          1                         \n",
              "paciente com distensão abdominal durante intern...                                                  1                         \n",
              "período neonatal                                                                                    1                         \n",
              "sem informação                                                                                      8                         \n",
              "\n",
              "                                                    Manometria (normal=1/alterada=2/inconclusiva=3/não realizada=4)  \\\n",
              "Duração da constipação até chegar ao serviço                                                                          \n",
              "30 dias                                                                                             1                 \n",
              "7 dias                                                                                              1                 \n",
              "Desde o começo da infância                                                                          1                 \n",
              "Desde o período neonatal                                                                            2                 \n",
              "HÁ 5 ANOS (DESDE ANTES DOS 6 MESES DE VIDA)                                                         1                 \n",
              "Há 1 mês                                                                                            1                 \n",
              "Há 5 anos                                                                                           1                 \n",
              "Há 5 anose 8 meses                                                                                  1                 \n",
              "Há 6 anos (DESDE OS 5 ANOS DE IDADE)                                                                1                 \n",
              "Por volta de 1 anos de idade                                                                        1                 \n",
              "antes de 1 ano de idade                                                                             1                 \n",
              "antes dos 7 meses de idade                                                                          1                 \n",
              "aos 2 anos de idade                                                                                 1                 \n",
              "aos 3 anos de idade                                                                                 1                 \n",
              "desconhecido                                                                                        4                 \n",
              "desde 1 ano de idade                                                                                3                 \n",
              "desde 1 mês de vida                                                                                 1                 \n",
              "desde 2 anos e 5 meses                                                                              1                 \n",
              "desde antes dos 2 anos de idade                                                                     1                 \n",
              "desde nascimento                                                                                    1                 \n",
              "desde nov/2014                                                                                      1                 \n",
              "desde o nascimento                                                                                 22                 \n",
              "desde o período de lactente                                                                         1                 \n",
              "desde o período neonal                                                                              1                 \n",
              "desde o período neonatal                                                                            2                 \n",
              "desde os 12 anos                                                                                    1                 \n",
              "desde os 2 anos de idade                                                                            2                 \n",
              "desde os 2 meses                                                                                    1                 \n",
              "desde os 2 meses de idade                                                                           1                 \n",
              "desde os 2 meses de vida                                                                            1                 \n",
              "desde os 2- 3 anos de idade                                                                         1                 \n",
              "desde os 3 anos de idade                                                                            3                 \n",
              "desde os 3 meses de idade                                                                           1                 \n",
              "desde os 3 meses de vida                                                                            2                 \n",
              "desde os 4 anos de idade                                                                            2                 \n",
              "desde os 4 meses de idade                                                                           2                 \n",
              "desde os 5 anos de idade                                                                            1                 \n",
              "desde os 6 anos (á 4 anos)                                                                          1                 \n",
              "desde os 6 meses                                                                                    1                 \n",
              "desde os 6 meses de idade                                                                           1                 \n",
              "desde os 7 meses de vida                                                                            1                 \n",
              "desde os 8 anos de idade                                                                            1                 \n",
              "desde os 8 meses de idade                                                                           2                 \n",
              "desde os 9 anos                                                                                     2                 \n",
              "desde os 9 meses                                                                                    1                 \n",
              "desde os 9a nos de idade                                                                            1                 \n",
              "desde os dois meses de vida                                                                         1                 \n",
              "desde período neonatal                                                                              1                 \n",
              "desde que era pequena                                                                               1                 \n",
              "há 1 ano                                                                                            1                 \n",
              "há 2 meses                                                                                          1                 \n",
              "não consta                                                                                          1                 \n",
              "paciente com distensão abdominal durante intern...                                                  1                 \n",
              "período neonatal                                                                                    1                 \n",
              "sem informação                                                                                      8                 \n",
              "\n",
              "                                                    Resultado da Biópsia (normal=1/alterada=2/inconclusivo=3/não realizada=4)  \\\n",
              "Duração da constipação até chegar ao serviço                                                                                    \n",
              "30 dias                                                                                             1                           \n",
              "7 dias                                                                                              1                           \n",
              "Desde o começo da infância                                                                          1                           \n",
              "Desde o período neonatal                                                                            2                           \n",
              "HÁ 5 ANOS (DESDE ANTES DOS 6 MESES DE VIDA)                                                         1                           \n",
              "Há 1 mês                                                                                            1                           \n",
              "Há 5 anos                                                                                           1                           \n",
              "Há 5 anose 8 meses                                                                                  1                           \n",
              "Há 6 anos (DESDE OS 5 ANOS DE IDADE)                                                                1                           \n",
              "Por volta de 1 anos de idade                                                                        1                           \n",
              "antes de 1 ano de idade                                                                             1                           \n",
              "antes dos 7 meses de idade                                                                          1                           \n",
              "aos 2 anos de idade                                                                                 1                           \n",
              "aos 3 anos de idade                                                                                 1                           \n",
              "desconhecido                                                                                        4                           \n",
              "desde 1 ano de idade                                                                                3                           \n",
              "desde 1 mês de vida                                                                                 1                           \n",
              "desde 2 anos e 5 meses                                                                              1                           \n",
              "desde antes dos 2 anos de idade                                                                     1                           \n",
              "desde nascimento                                                                                    1                           \n",
              "desde nov/2014                                                                                      1                           \n",
              "desde o nascimento                                                                                 22                           \n",
              "desde o período de lactente                                                                         1                           \n",
              "desde o período neonal                                                                              1                           \n",
              "desde o período neonatal                                                                            2                           \n",
              "desde os 12 anos                                                                                    1                           \n",
              "desde os 2 anos de idade                                                                            2                           \n",
              "desde os 2 meses                                                                                    1                           \n",
              "desde os 2 meses de idade                                                                           1                           \n",
              "desde os 2 meses de vida                                                                            1                           \n",
              "desde os 2- 3 anos de idade                                                                         1                           \n",
              "desde os 3 anos de idade                                                                            3                           \n",
              "desde os 3 meses de idade                                                                           1                           \n",
              "desde os 3 meses de vida                                                                            2                           \n",
              "desde os 4 anos de idade                                                                            2                           \n",
              "desde os 4 meses de idade                                                                           2                           \n",
              "desde os 5 anos de idade                                                                            1                           \n",
              "desde os 6 anos (á 4 anos)                                                                          1                           \n",
              "desde os 6 meses                                                                                    1                           \n",
              "desde os 6 meses de idade                                                                           1                           \n",
              "desde os 7 meses de vida                                                                            1                           \n",
              "desde os 8 anos de idade                                                                            1                           \n",
              "desde os 8 meses de idade                                                                           2                           \n",
              "desde os 9 anos                                                                                     2                           \n",
              "desde os 9 meses                                                                                    1                           \n",
              "desde os 9a nos de idade                                                                            1                           \n",
              "desde os dois meses de vida                                                                         1                           \n",
              "desde período neonatal                                                                              1                           \n",
              "desde que era pequena                                                                               1                           \n",
              "há 1 ano                                                                                            1                           \n",
              "há 2 meses                                                                                          1                           \n",
              "não consta                                                                                          1                           \n",
              "paciente com distensão abdominal durante intern...                                                  1                           \n",
              "período neonatal                                                                                    1                           \n",
              "sem informação                                                                                      8                           \n",
              "\n",
              "                                                    Desfecho para o paciente em relação ao seguimento (mantém=1/alta=2/perdeu=3/óbito=4/desconhecido=5)  \n",
              "Duração da constipação até chegar ao serviço                                                                                                             \n",
              "30 dias                                                                                             1                                                    \n",
              "7 dias                                                                                              1                                                    \n",
              "Desde o começo da infância                                                                          1                                                    \n",
              "Desde o período neonatal                                                                            2                                                    \n",
              "HÁ 5 ANOS (DESDE ANTES DOS 6 MESES DE VIDA)                                                         1                                                    \n",
              "Há 1 mês                                                                                            1                                                    \n",
              "Há 5 anos                                                                                           1                                                    \n",
              "Há 5 anose 8 meses                                                                                  1                                                    \n",
              "Há 6 anos (DESDE OS 5 ANOS DE IDADE)                                                                1                                                    \n",
              "Por volta de 1 anos de idade                                                                        1                                                    \n",
              "antes de 1 ano de idade                                                                             1                                                    \n",
              "antes dos 7 meses de idade                                                                          1                                                    \n",
              "aos 2 anos de idade                                                                                 1                                                    \n",
              "aos 3 anos de idade                                                                                 1                                                    \n",
              "desconhecido                                                                                        4                                                    \n",
              "desde 1 ano de idade                                                                                3                                                    \n",
              "desde 1 mês de vida                                                                                 1                                                    \n",
              "desde 2 anos e 5 meses                                                                              1                                                    \n",
              "desde antes dos 2 anos de idade                                                                     1                                                    \n",
              "desde nascimento                                                                                    1                                                    \n",
              "desde nov/2014                                                                                      1                                                    \n",
              "desde o nascimento                                                                                 22                                                    \n",
              "desde o período de lactente                                                                         1                                                    \n",
              "desde o período neonal                                                                              1                                                    \n",
              "desde o período neonatal                                                                            2                                                    \n",
              "desde os 12 anos                                                                                    1                                                    \n",
              "desde os 2 anos de idade                                                                            2                                                    \n",
              "desde os 2 meses                                                                                    1                                                    \n",
              "desde os 2 meses de idade                                                                           1                                                    \n",
              "desde os 2 meses de vida                                                                            1                                                    \n",
              "desde os 2- 3 anos de idade                                                                         1                                                    \n",
              "desde os 3 anos de idade                                                                            3                                                    \n",
              "desde os 3 meses de idade                                                                           1                                                    \n",
              "desde os 3 meses de vida                                                                            2                                                    \n",
              "desde os 4 anos de idade                                                                            2                                                    \n",
              "desde os 4 meses de idade                                                                           2                                                    \n",
              "desde os 5 anos de idade                                                                            1                                                    \n",
              "desde os 6 anos (á 4 anos)                                                                          1                                                    \n",
              "desde os 6 meses                                                                                    1                                                    \n",
              "desde os 6 meses de idade                                                                           1                                                    \n",
              "desde os 7 meses de vida                                                                            1                                                    \n",
              "desde os 8 anos de idade                                                                            1                                                    \n",
              "desde os 8 meses de idade                                                                           2                                                    \n",
              "desde os 9 anos                                                                                     2                                                    \n",
              "desde os 9 meses                                                                                    1                                                    \n",
              "desde os 9a nos de idade                                                                            1                                                    \n",
              "desde os dois meses de vida                                                                         1                                                    \n",
              "desde período neonatal                                                                              1                                                    \n",
              "desde que era pequena                                                                               1                                                    \n",
              "há 1 ano                                                                                            1                                                    \n",
              "há 2 meses                                                                                          1                                                    \n",
              "não consta                                                                                          1                                                    \n",
              "paciente com distensão abdominal durante intern...                                                  1                                                    \n",
              "período neonatal                                                                                    1                                                    \n",
              "sem informação                                                                                      8                                                    "
            ]
          },
          "execution_count": 100,
          "metadata": {},
          "output_type": "execute_result"
        }
      ],
      "source": [
        "data.groupby('Duração da constipação até chegar ao serviço').count()"
      ]
    },
    {
      "cell_type": "code",
      "execution_count": 101,
      "metadata": {
        "id": "aV6YUpkQj3gZ"
      },
      "outputs": [],
      "source": [
        "for idx, _ in data[['Duração da constipação até chegar ao serviço']].iterrows():\n",
        "  if data['Duração da constipação até chegar ao serviço'][idx] == 'desde o nascimento':\n",
        "    data['Duração da constipação até chegar ao serviço'].at[idx] = data['Idade ao exame'].at[idx].astype(float).round(2)\n",
        "  if data['Duração da constipação até chegar ao serviço'][idx] == 'desde nascimento':\n",
        "    data['Duração da constipação até chegar ao serviço'].at[idx] = data['Idade ao exame'].at[idx].astype(float).round(2)\n",
        "  if data['Duração da constipação até chegar ao serviço'][idx] == 'desde período neonatal':\n",
        "    data['Duração da constipação até chegar ao serviço'].at[idx] = data['Idade ao exame'].at[idx].astype(float).round(2)\n",
        "  if data['Duração da constipação até chegar ao serviço'][idx] == 'período neonatal':\n",
        "    data['Duração da constipação até chegar ao serviço'].at[idx] = data['Idade ao exame'].at[idx].astype(float).round(2)\n",
        "  if data['Duração da constipação até chegar ao serviço'][idx] == 'Desde o período neonatal':\n",
        "    data['Duração da constipação até chegar ao serviço'].at[idx] = data['Idade ao exame'].at[idx].astype(float).round(2)\n",
        "  if data['Duração da constipação até chegar ao serviço'][idx] == 'desde o período neonal':\n",
        "    data['Duração da constipação até chegar ao serviço'].at[idx] = data['Idade ao exame'].at[idx].astype(float).round(2)\n",
        "  if data['Duração da constipação até chegar ao serviço'][idx] == 'desde o período neonatal':\n",
        "    data['Duração da constipação até chegar ao serviço'].at[idx] = data['Idade ao exame'].at[idx].astype(float).round(2)\n",
        "  if data['Duração da constipação até chegar ao serviço'][idx] == '30 dias':\n",
        "    data['Duração da constipação até chegar ao serviço'].at[idx] = round(30/365,2) \n",
        "  if data['Duração da constipação até chegar ao serviço'][idx] == '7 dias':\n",
        "    data['Duração da constipação até chegar ao serviço'].at[idx] = round(7/365,2)\n",
        "  if data['Duração da constipação até chegar ao serviço'][idx] == 'Desde o começo da infância':\n",
        "    data['Duração da constipação até chegar ao serviço'].at[idx] = 'Informação imprecisa'\n",
        "  if data['Duração da constipação até chegar ao serviço'][idx] == 'desde 1 ano de idade':\n",
        "    data['Duração da constipação até chegar ao serviço'].at[idx] = data['Idade ao exame'].at[idx].astype(float).round(2)-round(1,2)\n",
        "  if data['Duração da constipação até chegar ao serviço'][idx] == 'HÁ 5 ANOS (DESDE ANTES DOS 6 MESES DE VIDA)':\n",
        "    data['Duração da constipação até chegar ao serviço'].at[idx] = data['Idade ao exame'].at[idx].astype(float).round(2)-round(6/12,2)\n",
        "  if data['Duração da constipação até chegar ao serviço'][idx] == 'Há 1 mês':\n",
        "    data['Duração da constipação até chegar ao serviço'].at[idx] = round(1/12,2)\n",
        "  if data['Duração da constipação até chegar ao serviço'][idx] == 'Há 5 anos':\n",
        "    data['Duração da constipação até chegar ao serviço'].at[idx] = round(5,2)\n",
        "  if data['Duração da constipação até chegar ao serviço'][idx] == 'Há 5 anose 8 meses':\n",
        "    data['Duração da constipação até chegar ao serviço'].at[idx] = round(5+8/12,2)\n",
        "  if data['Duração da constipação até chegar ao serviço'][idx] == 'Há 6 anos (DESDE OS 5 ANOS DE IDADE)':\n",
        "    data['Duração da constipação até chegar ao serviço'].at[idx] = round(6,2)\n",
        "  if data['Duração da constipação até chegar ao serviço'][idx] == 'Por volta de 1 anos de idade':\n",
        "    data['Duração da constipação até chegar ao serviço'].at[idx] = data['Idade ao exame'].at[idx].astype(float)-round(1,2)\n",
        "  if data['Duração da constipação até chegar ao serviço'][idx] == 'antes de 1 ano de idade':\n",
        "    data['Duração da constipação até chegar ao serviço'].at[idx] = data['Idade ao exame'].at[idx].astype(float)-round(1,2)\n",
        "  if data['Duração da constipação até chegar ao serviço'][idx] == 'antes dos 7 meses de idade':\n",
        "    data['Duração da constipação até chegar ao serviço'].at[idx] = data['Idade ao exame'].at[idx].astype(float)-round(7/12,2)\n",
        "  if data['Duração da constipação até chegar ao serviço'][idx] == 'aos 2 anos de idade':\n",
        "    data['Duração da constipação até chegar ao serviço'].at[idx] = data['Idade ao exame'].at[idx].astype(float)-round(2,2)\n",
        "  if data['Duração da constipação até chegar ao serviço'][idx] == 'aos 3 anos de idade':\n",
        "    data['Duração da constipação até chegar ao serviço'].at[idx] = data['Idade ao exame'].at[idx].astype(float)-round(3,2)\n",
        "  if data['Duração da constipação até chegar ao serviço'][idx] == 'desconhecido':\n",
        "    data['Duração da constipação até chegar ao serviço'].at[idx] = 'Informação imprecisa'\n",
        "  if data['Duração da constipação até chegar ao serviço'][idx] == 'sem informação':\n",
        "    data['Duração da constipação até chegar ao serviço'].at[idx] = 'Informação imprecisa'\n",
        "  if data['Duração da constipação até chegar ao serviço'][idx] == 'não consta':\n",
        "    data['Duração da constipação até chegar ao serviço'].at[idx] = 'Informação imprecisa'\n",
        "  if data['Duração da constipação até chegar ao serviço'][idx] == 'desde 1 mês de vida':\n",
        "    data['Duração da constipação até chegar ao serviço'].at[idx] = data['Idade ao exame'].at[idx].astype(float).round(2)-round(1/12,2)\n",
        "  if data['Duração da constipação até chegar ao serviço'][idx] == 'desde 2 anos e 5 meses':\n",
        "    data['Duração da constipação até chegar ao serviço'].at[idx] = data['Idade ao exame'].at[idx].astype(float).round(2)-round(2-5/12,2)\n",
        "  if data['Duração da constipação até chegar ao serviço'][idx] == 'desde antes dos 2 anos de idade':\n",
        "    data['Duração da constipação até chegar ao serviço'].at[idx] = data['Idade ao exame'].at[idx].astype(float).round(2)-round(2,2)\n",
        "  if data['Duração da constipação até chegar ao serviço'][idx] == 'desde o período de lactente':\n",
        "    data['Duração da constipação até chegar ao serviço'].at[idx] = data['Idade ao exame'].at[idx].astype(float).round(2)-round(1,2)\n",
        "  if data['Duração da constipação até chegar ao serviço'][idx] == 'desde os 12 anos':\n",
        "    data['Duração da constipação até chegar ao serviço'].at[idx] = data['Idade ao exame'].at[idx].astype(float).round(2)-round(12,2)\n",
        "  if data['Duração da constipação até chegar ao serviço'][idx] == 'desde os 2 anos de idade':\n",
        "    data['Duração da constipação até chegar ao serviço'].at[idx] = data['Idade ao exame'].at[idx].astype(float).round(2)-round(2,2)\n",
        "  if data['Duração da constipação até chegar ao serviço'][idx] == 'desde nov/2014':\n",
        "    data['Duração da constipação até chegar ao serviço'].at[idx] = data['Idade ao exame'].at[idx].astype(float).round(2)-round(4.5,2)\n",
        "  if data['Duração da constipação até chegar ao serviço'][idx] == 'desde os 2 meses':\n",
        "    data['Duração da constipação até chegar ao serviço'].at[idx] = data['Idade ao exame'].at[idx].astype(float).round(2)-round(2/12,2)\n",
        "  if data['Duração da constipação até chegar ao serviço'][idx] == 'desde os 2 meses de idade':\n",
        "    data['Duração da constipação até chegar ao serviço'].at[idx] = data['Idade ao exame'].at[idx].astype(float).round(2)-round(2/12,2)\n",
        "  if data['Duração da constipação até chegar ao serviço'][idx] == 'desde os 2 meses de vida':\n",
        "    data['Duração da constipação até chegar ao serviço'].at[idx] = data['Idade ao exame'].at[idx].astype(float).round(2)-round(2/12,2)\n",
        "  if data['Duração da constipação até chegar ao serviço'][idx] == 'desde os 2- 3 anos de idade':\n",
        "    data['Duração da constipação até chegar ao serviço'].at[idx] = data['Idade ao exame'].at[idx].astype(float).round(2)-round(2.5,2)\n",
        "  if data['Duração da constipação até chegar ao serviço'][idx] == 'desde os 3 anos de idade':\n",
        "    data['Duração da constipação até chegar ao serviço'].at[idx] = data['Idade ao exame'].at[idx].astype(float).round(2)-round(3,2)\n",
        "  if data['Duração da constipação até chegar ao serviço'][idx] == 'desde os 3 meses de idade':\n",
        "    data['Duração da constipação até chegar ao serviço'].at[idx] = data['Idade ao exame'].at[idx].astype(float).round(2)-round(3/12,2)\n",
        "  if data['Duração da constipação até chegar ao serviço'][idx] == 'desde os 3 meses de vida':\n",
        "    data['Duração da constipação até chegar ao serviço'].at[idx] = data['Idade ao exame'].at[idx].astype(float).round(2)-round(3/12,2)\n",
        "  if data['Duração da constipação até chegar ao serviço'][idx] == 'desde os 4 anos de idade':\n",
        "    data['Duração da constipação até chegar ao serviço'].at[idx] = data['Idade ao exame'].at[idx].astype(float).round(2)-round(4,2)\n",
        "  if data['Duração da constipação até chegar ao serviço'][idx] == 'desde os 4 meses de idade':\n",
        "    data['Duração da constipação até chegar ao serviço'].at[idx] = data['Idade ao exame'].at[idx].astype(float).round(2)-round(4/12,2)\n",
        "  if data['Duração da constipação até chegar ao serviço'][idx] == 'desde os 5 anos de idade':\n",
        "    data['Duração da constipação até chegar ao serviço'].at[idx] = data['Idade ao exame'].at[idx].astype(float).round(2)-round(5,2)\n",
        "  if data['Duração da constipação até chegar ao serviço'][idx] == 'desde os 6 anos (á 4 anos)':\n",
        "    data['Duração da constipação até chegar ao serviço'].at[idx] = data['Idade ao exame'].at[idx].astype(float).round(2)-round(6,2)\n",
        "  if data['Duração da constipação até chegar ao serviço'][idx] == 'desde os 6 meses':\n",
        "    data['Duração da constipação até chegar ao serviço'].at[idx] = data['Idade ao exame'].at[idx].astype(float).round(2)-round(6/12,2)\n",
        "  if data['Duração da constipação até chegar ao serviço'][idx] == 'desde os 6 meses de idade':\n",
        "    data['Duração da constipação até chegar ao serviço'].at[idx] = data['Idade ao exame'].at[idx].astype(float).round(2)-round(6/12,2)\n",
        "  if data['Duração da constipação até chegar ao serviço'][idx] == 'desde os 7 meses de vida':\n",
        "    data['Duração da constipação até chegar ao serviço'].at[idx] = data['Idade ao exame'].at[idx].astype(float).round(2)-round(7/12,2)\n",
        "  if data['Duração da constipação até chegar ao serviço'][idx] == 'desde os 8 anos de idade':\n",
        "    data['Duração da constipação até chegar ao serviço'].at[idx] = data['Idade ao exame'].at[idx].astype(float).round(2)-round(8,2)\n",
        "  if data['Duração da constipação até chegar ao serviço'][idx] == 'desde os 8 meses de idade':\n",
        "    data['Duração da constipação até chegar ao serviço'].at[idx] = data['Idade ao exame'].at[idx].astype(float).round(2)-round(8/12,2)\n",
        "  if data['Duração da constipação até chegar ao serviço'][idx] == 'desde os 9 anos':\n",
        "    data['Duração da constipação até chegar ao serviço'].at[idx] = data['Idade ao exame'].at[idx].astype(float).round(2)-round(9 ,2)\n",
        "  if data['Duração da constipação até chegar ao serviço'][idx] == 'desde os 9 meses':\n",
        "    data['Duração da constipação até chegar ao serviço'].at[idx] = data['Idade ao exame'].at[idx].astype(float).round(2)-round(9/12,2)\n",
        "  if data['Duração da constipação até chegar ao serviço'][idx] == 'desde os 9a nos de idade':\n",
        "    data['Duração da constipação até chegar ao serviço'].at[idx] = data['Idade ao exame'].at[idx].astype(float).round(2)-round(9 ,2)\n",
        "  if data['Duração da constipação até chegar ao serviço'][idx] == 'desde os dois meses de vida':\n",
        "    data['Duração da constipação até chegar ao serviço'].at[idx] = data['Idade ao exame'].at[idx].astype(float).round(2)-round(2/12 ,2)\n",
        "  if data['Duração da constipação até chegar ao serviço'][idx] == 'desde que era pequena':\n",
        "    data['Duração da constipação até chegar ao serviço'].at[idx] = 'Informação imprecisa' \n",
        "  if data['Duração da constipação até chegar ao serviço'][idx] == 'há 1 ano':\n",
        "    data['Duração da constipação até chegar ao serviço'].at[idx] = round(1 ,2)\n",
        "  if data['Duração da constipação até chegar ao serviço'][idx] == 'há 2 meses  ':\n",
        "    data['Duração da constipação até chegar ao serviço'].at[idx] = round(2/12,2)\n",
        "  if data['Duração da constipação até chegar ao serviço'][idx] == 'paciente com distensão abdominal durante internação':\n",
        "    data['Duração da constipação até chegar ao serviço'].at[idx] = 'Informação imprecisa'"
      ]
    },
    {
      "cell_type": "code",
      "execution_count": 102,
      "metadata": {
        "colab": {
          "base_uri": "https://localhost:8080/",
          "height": 0
        },
        "id": "kjEpAnbX47Cs",
        "outputId": "4fd21a7d-09fb-4a96-b3e1-36f452bb0a34"
      },
      "outputs": [
        {
          "data": {
            "text/html": [
              "<div>\n",
              "<style scoped>\n",
              "    .dataframe tbody tr th:only-of-type {\n",
              "        vertical-align: middle;\n",
              "    }\n",
              "\n",
              "    .dataframe tbody tr th {\n",
              "        vertical-align: top;\n",
              "    }\n",
              "\n",
              "    .dataframe thead th {\n",
              "        text-align: right;\n",
              "    }\n",
              "</style>\n",
              "<table border=\"1\" class=\"dataframe\">\n",
              "  <thead>\n",
              "    <tr style=\"text-align: right;\">\n",
              "      <th></th>\n",
              "      <th>Idade ao exame</th>\n",
              "      <th>Duração da constipação até chegar ao serviço</th>\n",
              "      <th>Fez tratamento clínico antes da Manometria? (Sim=1/não=2/desconhecido=3)</th>\n",
              "      <th>ANTECEDENTE CLÍNICO DO PACIENTE (hígido=1/comorbidade=2/desconhecido=3)</th>\n",
              "      <th>Manometria (normal=1/alterada=2/inconclusiva=3/não realizada=4)</th>\n",
              "      <th>Resultado da Biópsia (normal=1/alterada=2/inconclusivo=3/não realizada=4)</th>\n",
              "      <th>Desfecho para o paciente em relação ao seguimento (mantém=1/alta=2/perdeu=3/óbito=4/desconhecido=5)</th>\n",
              "    </tr>\n",
              "  </thead>\n",
              "  <tbody>\n",
              "    <tr>\n",
              "      <th>0</th>\n",
              "      <td>5.00</td>\n",
              "      <td>0.02</td>\n",
              "      <td>1.0</td>\n",
              "      <td>2</td>\n",
              "      <td>1.0</td>\n",
              "      <td>4.0</td>\n",
              "      <td>1.0</td>\n",
              "    </tr>\n",
              "    <tr>\n",
              "      <th>1</th>\n",
              "      <td>8.58</td>\n",
              "      <td>8.58</td>\n",
              "      <td>1.0</td>\n",
              "      <td>2</td>\n",
              "      <td>1.0</td>\n",
              "      <td>4.0</td>\n",
              "      <td>2.0</td>\n",
              "    </tr>\n",
              "    <tr>\n",
              "      <th>2</th>\n",
              "      <td>12.08</td>\n",
              "      <td>12.08</td>\n",
              "      <td>1.0</td>\n",
              "      <td>2</td>\n",
              "      <td>2.0</td>\n",
              "      <td>4.0</td>\n",
              "      <td>3.0</td>\n",
              "    </tr>\n",
              "    <tr>\n",
              "      <th>3</th>\n",
              "      <td>11.25</td>\n",
              "      <td>2.25</td>\n",
              "      <td>1.0</td>\n",
              "      <td>1</td>\n",
              "      <td>1.0</td>\n",
              "      <td>4.0</td>\n",
              "      <td>2.0</td>\n",
              "    </tr>\n",
              "    <tr>\n",
              "      <th>4</th>\n",
              "      <td>3.17</td>\n",
              "      <td>1.17</td>\n",
              "      <td>1.0</td>\n",
              "      <td>2</td>\n",
              "      <td>1.0</td>\n",
              "      <td>4.0</td>\n",
              "      <td>1.0</td>\n",
              "    </tr>\n",
              "    <tr>\n",
              "      <th>...</th>\n",
              "      <td>...</td>\n",
              "      <td>...</td>\n",
              "      <td>...</td>\n",
              "      <td>...</td>\n",
              "      <td>...</td>\n",
              "      <td>...</td>\n",
              "      <td>...</td>\n",
              "    </tr>\n",
              "    <tr>\n",
              "      <th>93</th>\n",
              "      <td>10.17</td>\n",
              "      <td>1.17</td>\n",
              "      <td>1.0</td>\n",
              "      <td>1</td>\n",
              "      <td>1.0</td>\n",
              "      <td>4.0</td>\n",
              "      <td>3.0</td>\n",
              "    </tr>\n",
              "    <tr>\n",
              "      <th>94</th>\n",
              "      <td>12.00</td>\n",
              "      <td>9</td>\n",
              "      <td>1.0</td>\n",
              "      <td>1</td>\n",
              "      <td>1.0</td>\n",
              "      <td>4.0</td>\n",
              "      <td>3.0</td>\n",
              "    </tr>\n",
              "    <tr>\n",
              "      <th>95</th>\n",
              "      <td>10.58</td>\n",
              "      <td>10.25</td>\n",
              "      <td>1.0</td>\n",
              "      <td>2</td>\n",
              "      <td>1.0</td>\n",
              "      <td>4.0</td>\n",
              "      <td>3.0</td>\n",
              "    </tr>\n",
              "    <tr>\n",
              "      <th>96</th>\n",
              "      <td>7.08</td>\n",
              "      <td>6.75</td>\n",
              "      <td>1.0</td>\n",
              "      <td>1</td>\n",
              "      <td>1.0</td>\n",
              "      <td>4.0</td>\n",
              "      <td>3.0</td>\n",
              "    </tr>\n",
              "    <tr>\n",
              "      <th>97</th>\n",
              "      <td>14.00</td>\n",
              "      <td>9</td>\n",
              "      <td>1.0</td>\n",
              "      <td>1</td>\n",
              "      <td>1.0</td>\n",
              "      <td>4.0</td>\n",
              "      <td>3.0</td>\n",
              "    </tr>\n",
              "  </tbody>\n",
              "</table>\n",
              "<p>98 rows × 7 columns</p>\n",
              "</div>"
            ],
            "text/plain": [
              "    Idade ao exame Duração da constipação até chegar ao serviço  \\\n",
              "0             5.00                                         0.02   \n",
              "1             8.58                                         8.58   \n",
              "2            12.08                                        12.08   \n",
              "3            11.25                                         2.25   \n",
              "4             3.17                                         1.17   \n",
              "..             ...                                          ...   \n",
              "93           10.17                                         1.17   \n",
              "94           12.00                                            9   \n",
              "95           10.58                                        10.25   \n",
              "96            7.08                                         6.75   \n",
              "97           14.00                                            9   \n",
              "\n",
              "    Fez tratamento clínico antes da Manometria? (Sim=1/não=2/desconhecido=3)  \\\n",
              "0                                                 1.0                          \n",
              "1                                                 1.0                          \n",
              "2                                                 1.0                          \n",
              "3                                                 1.0                          \n",
              "4                                                 1.0                          \n",
              "..                                                ...                          \n",
              "93                                                1.0                          \n",
              "94                                                1.0                          \n",
              "95                                                1.0                          \n",
              "96                                                1.0                          \n",
              "97                                                1.0                          \n",
              "\n",
              "    ANTECEDENTE CLÍNICO DO PACIENTE (hígido=1/comorbidade=2/desconhecido=3)  \\\n",
              "0                                                   2                         \n",
              "1                                                   2                         \n",
              "2                                                   2                         \n",
              "3                                                   1                         \n",
              "4                                                   2                         \n",
              "..                                                ...                         \n",
              "93                                                  1                         \n",
              "94                                                  1                         \n",
              "95                                                  2                         \n",
              "96                                                  1                         \n",
              "97                                                  1                         \n",
              "\n",
              "    Manometria (normal=1/alterada=2/inconclusiva=3/não realizada=4)  \\\n",
              "0                                                 1.0                 \n",
              "1                                                 1.0                 \n",
              "2                                                 2.0                 \n",
              "3                                                 1.0                 \n",
              "4                                                 1.0                 \n",
              "..                                                ...                 \n",
              "93                                                1.0                 \n",
              "94                                                1.0                 \n",
              "95                                                1.0                 \n",
              "96                                                1.0                 \n",
              "97                                                1.0                 \n",
              "\n",
              "    Resultado da Biópsia (normal=1/alterada=2/inconclusivo=3/não realizada=4)  \\\n",
              "0                                                 4.0                           \n",
              "1                                                 4.0                           \n",
              "2                                                 4.0                           \n",
              "3                                                 4.0                           \n",
              "4                                                 4.0                           \n",
              "..                                                ...                           \n",
              "93                                                4.0                           \n",
              "94                                                4.0                           \n",
              "95                                                4.0                           \n",
              "96                                                4.0                           \n",
              "97                                                4.0                           \n",
              "\n",
              "    Desfecho para o paciente em relação ao seguimento (mantém=1/alta=2/perdeu=3/óbito=4/desconhecido=5)  \n",
              "0                                                 1.0                                                    \n",
              "1                                                 2.0                                                    \n",
              "2                                                 3.0                                                    \n",
              "3                                                 2.0                                                    \n",
              "4                                                 1.0                                                    \n",
              "..                                                ...                                                    \n",
              "93                                                3.0                                                    \n",
              "94                                                3.0                                                    \n",
              "95                                                3.0                                                    \n",
              "96                                                3.0                                                    \n",
              "97                                                3.0                                                    \n",
              "\n",
              "[98 rows x 7 columns]"
            ]
          },
          "execution_count": 102,
          "metadata": {},
          "output_type": "execute_result"
        }
      ],
      "source": [
        "data"
      ]
    },
    {
      "cell_type": "markdown",
      "metadata": {
        "id": "LloRxyw02F8m"
      },
      "source": [
        "END OF FEATURE ENGINEERING"
      ]
    },
    {
      "cell_type": "markdown",
      "metadata": {
        "id": "flpu15N_8Myp"
      },
      "source": [
        "## Mean, std, mode and median at Age at the examen"
      ]
    },
    {
      "cell_type": "code",
      "execution_count": 103,
      "metadata": {
        "colab": {
          "base_uri": "https://localhost:8080/"
        },
        "id": "ok1w79WS8Pts",
        "outputId": "340082be-9eb5-499e-aae1-68f3678142b6"
      },
      "outputs": [
        {
          "data": {
            "text/plain": [
              "6.465773195876288"
            ]
          },
          "execution_count": 103,
          "metadata": {},
          "output_type": "execute_result"
        }
      ],
      "source": [
        "media_idadeexame = data['Idade ao exame'].mean()\n",
        "media_idadeexame"
      ]
    },
    {
      "cell_type": "code",
      "execution_count": 104,
      "metadata": {
        "colab": {
          "base_uri": "https://localhost:8080/"
        },
        "id": "vlox_7RG37gL",
        "outputId": "626f3545-59ea-4680-a9e5-56aab549f487"
      },
      "outputs": [
        {
          "data": {
            "text/plain": [
              "3.8153682748882916"
            ]
          },
          "execution_count": 104,
          "metadata": {},
          "output_type": "execute_result"
        }
      ],
      "source": [
        "std_idadeexame = data['Idade ao exame'].std()\n",
        "std_idadeexame"
      ]
    },
    {
      "cell_type": "code",
      "execution_count": 105,
      "metadata": {
        "colab": {
          "base_uri": "https://localhost:8080/"
        },
        "id": "wTE88AFe8Zb9",
        "outputId": "8941c84a-61b3-44cb-dd6c-44a7cb8d505c"
      },
      "outputs": [
        {
          "data": {
            "text/plain": [
              "0     1.08\n",
              "1     7.08\n",
              "2    10.08\n",
              "dtype: float64"
            ]
          },
          "execution_count": 105,
          "metadata": {},
          "output_type": "execute_result"
        }
      ],
      "source": [
        "moda_idadeexame = data['Idade ao exame'].mode()\n",
        "moda_idadeexame"
      ]
    },
    {
      "cell_type": "code",
      "execution_count": 106,
      "metadata": {
        "colab": {
          "base_uri": "https://localhost:8080/"
        },
        "id": "7FIAc0pn88Wt",
        "outputId": "af00cbd5-3985-42f0-a048-4b43244abd37"
      },
      "outputs": [
        {
          "data": {
            "text/plain": [
              "6.5"
            ]
          },
          "execution_count": 106,
          "metadata": {},
          "output_type": "execute_result"
        }
      ],
      "source": [
        "mediana_idadeexame = data['Idade ao exame'].median()\n",
        "mediana_idadeexame"
      ]
    },
    {
      "cell_type": "markdown",
      "metadata": {
        "id": "lrUjHiBM4QsX"
      },
      "source": [
        "### Age distribution"
      ]
    },
    {
      "cell_type": "code",
      "execution_count": 107,
      "metadata": {
        "id": "r-2Bm2_cEqfi"
      },
      "outputs": [],
      "source": [
        "def calcula_ticks(lista,barras): #function to obtain the ticks of the graphic\n",
        "    menor_valor = lista.max()\n",
        "    maior_valor = lista.min()\n",
        "    intervalo = (maior_valor - menor_valor)/barras\n",
        "    ticks = [menor_valor]\n",
        "    ultimo = menor_valor+intervalo\n",
        "    ticks.append(ultimo)\n",
        "    for x in range(barras-1):\n",
        "        ultimo += intervalo\n",
        "        ticks.append(ultimo)\n",
        "    return ticks"
      ]
    },
    {
      "cell_type": "code",
      "execution_count": 108,
      "metadata": {
        "colab": {
          "base_uri": "https://localhost:8080/",
          "height": 0
        },
        "id": "j6_PkMh49EU9",
        "outputId": "6a59d185-d8cc-4e20-ddda-6381bc66437f"
      },
      "outputs": [
        {
          "data": {
            "image/png": "[encoded data removed]",
            "text/plain": [
              "<Figure size 600x500 with 1 Axes>"
            ]
          },
          "metadata": {
            "needs_background": "light"
          },
          "output_type": "display_data"
        }
      ],
      "source": [
        "lista = data['Idade ao exame']\n",
        "barras = 10\n",
        "plt.figure(figsize = (6,5), dpi = 100)\n",
        "data['Idade ao exame'].plot.hist(bins=barras,rwidth=0.95)\n",
        "ticks = calcula_ticks(lista,barras)\n",
        "plt.xticks(ticks)\n",
        "plt.yticks([0,2,4,6,8,10,12,14,16,18,20])\n",
        "plt.title('Distribuição das idades')\n",
        "plt.xlabel('Idade')\n",
        "plt.ylabel('Número de crianças')\n",
        "plt.grid(axis='y')"
      ]
    },
    {
      "cell_type": "markdown",
      "metadata": {
        "id": "G5Fv3Q3KF7hk"
      },
      "source": [
        "## Mean of constipation duration\n"
      ]
    },
    {
      "cell_type": "code",
      "execution_count": 109,
      "metadata": {
        "id": "mK7t7fb2G2Gj"
      },
      "outputs": [],
      "source": [
        "index_seminfo = data[['Duração da constipação até chegar ao serviço']].loc[(data['Duração da constipação até chegar ao serviço']=='Informação imprecisa')].index"
      ]
    },
    {
      "cell_type": "code",
      "execution_count": 110,
      "metadata": {
        "id": "RR_udvhWKXzH"
      },
      "outputs": [],
      "source": [
        "SemInfo = pd.Series(data['Duração da constipação até chegar ao serviço'].dropna()) #taking out the str type data, so we only have float\n",
        "SemInfo = SemInfo.drop(index_seminfo)\n",
        "SemInfo = SemInfo.astype(float)"
      ]
    },
    {
      "cell_type": "code",
      "execution_count": 111,
      "metadata": {
        "colab": {
          "base_uri": "https://localhost:8080/"
        },
        "id": "zOLE9Vw1EzQK",
        "outputId": "e17509e4-20b9-4e07-b5ca-a4a5e2c3fbcd"
      },
      "outputs": [
        {
          "data": {
            "text/plain": [
              "4.678148148148147"
            ]
          },
          "execution_count": 111,
          "metadata": {},
          "output_type": "execute_result"
        }
      ],
      "source": [
        "media_durconst = SemInfo.mean()\n",
        "media_durconst"
      ]
    },
    {
      "cell_type": "code",
      "execution_count": 112,
      "metadata": {
        "colab": {
          "base_uri": "https://localhost:8080/"
        },
        "id": "RLiogmYF4m1T",
        "outputId": "acee958a-a587-43fb-d730-d07a9e89f1eb"
      },
      "outputs": [
        {
          "data": {
            "text/plain": [
              "3.373937281245426"
            ]
          },
          "execution_count": 112,
          "metadata": {},
          "output_type": "execute_result"
        }
      ],
      "source": [
        "std_durconst = SemInfo.std()\n",
        "std_durconst"
      ]
    },
    {
      "cell_type": "code",
      "execution_count": 113,
      "metadata": {
        "colab": {
          "base_uri": "https://localhost:8080/"
        },
        "id": "v0J8JA6pGZ8i",
        "outputId": "dcb4bfee-fde5-4b96-81f5-39fd9200071d"
      },
      "outputs": [
        {
          "data": {
            "text/plain": [
              "0    2.25\n",
              "dtype: float64"
            ]
          },
          "execution_count": 113,
          "metadata": {},
          "output_type": "execute_result"
        }
      ],
      "source": [
        "moda_durconst = SemInfo.mode()\n",
        "moda_durconst"
      ]
    },
    {
      "cell_type": "code",
      "execution_count": 114,
      "metadata": {
        "id": "fjON_viqNKni"
      },
      "outputs": [],
      "source": [
        "mediana_durconst = SemInfo.median()"
      ]
    },
    {
      "cell_type": "code",
      "execution_count": 115,
      "metadata": {
        "colab": {
          "base_uri": "https://localhost:8080/",
          "height": 0
        },
        "id": "ZJLH-Jv1NUS8",
        "outputId": "d83822c5-756a-4982-8c35-4f09d13c0526"
      },
      "outputs": [
        {
          "data": {
            "image/png": "[encoded data removed]",
            "text/plain": [
              "<Figure size 600x500 with 1 Axes>"
            ]
          },
          "metadata": {
            "needs_background": "light"
          },
          "output_type": "display_data"
        }
      ],
      "source": [
        "lista = SemInfo\n",
        "barras = 10\n",
        "plt.figure(figsize = (6,5), dpi = 100)\n",
        "SemInfo.plot.hist(bins=barras,rwidth=0.96)\n",
        "ticks = calcula_ticks(lista,barras)\n",
        "plt.xticks(ticks)\n",
        "plt.yticks([0,2,4,6,8,10,12,14,16,18,20])\n",
        "plt.title('Distribuição da duração da constipação')\n",
        "plt.xlabel('Duração (anos)')\n",
        "plt.ylabel('Número de crianças')\n",
        "plt.grid(axis='y')"
      ]
    },
    {
      "cell_type": "markdown",
      "metadata": {
        "id": "5Sc1Wp4pOWy6"
      },
      "source": [
        "## Percent of children that have done prior clinical treatment"
      ]
    },
    {
      "cell_type": "code",
      "execution_count": 116,
      "metadata": {
        "colab": {
          "base_uri": "https://localhost:8080/"
        },
        "id": "t9p3XflFqKwA",
        "outputId": "523b0280-ba00-40de-9c01-172fd6342a9d"
      },
      "outputs": [
        {
          "data": {
            "text/plain": [
              "1.0    85\n",
              "2.0     7\n",
              "3.0     6\n",
              "Name: Fez tratamento clínico antes da Manometria? (Sim=1/não=2/desconhecido=3), dtype: int64"
            ]
          },
          "execution_count": 116,
          "metadata": {},
          "output_type": "execute_result"
        }
      ],
      "source": [
        "allvals = data['Fez tratamento clínico antes da Manometria? (Sim=1/não=2/desconhecido=3)'].value_counts()\n",
        "allvals"
      ]
    },
    {
      "cell_type": "code",
      "execution_count": 117,
      "metadata": {
        "colab": {
          "base_uri": "https://localhost:8080/",
          "height": 0
        },
        "id": "46av_hjON3ty",
        "outputId": "67204da3-dd63-4402-83dd-1c2994875831"
      },
      "outputs": [
        {
          "data": {
            "image/png": "[encoded data removed]",
            "text/plain": [
              "<Figure size 800x600 with 1 Axes>"
            ]
          },
          "metadata": {},
          "output_type": "display_data"
        }
      ],
      "source": [
        "allvals = data['Fez tratamento clínico antes da Manometria? (Sim=1/não=2/desconhecido=3)'].value_counts()\n",
        "def func(pct, allvals):\n",
        "    absolute = int(np.round(pct/100.*np.sum(allvals)))\n",
        "    return \"{:.1f}% ({:d})\".format(pct, absolute)\n",
        "plt.figure(figsize = (8,6), dpi = 100)\n",
        "label = ['1 - Sim', '2 - Não', '3 - Desconhecido']\n",
        "data['Fez tratamento clínico antes da Manometria? (Sim=1/não=2/desconhecido=3)'].value_counts().plot.pie(explode = [0.05,0.05,0.05], autopct=lambda pct:func(pct, allvals))\n",
        "plt.legend(label,\n",
        "          title = 'Fez tratamento clínico?',\n",
        "          loc = 'lower left')\n",
        "plt.ylabel('')\n",
        "plt.title('Tratamento clínico antes do exame de Manometria')\n",
        "plt.show()"
      ]
    },
    {
      "cell_type": "markdown",
      "metadata": {
        "id": "KhroRtK0RtUI"
      },
      "source": [
        "## Percent of healthy/ with comorbidity children"
      ]
    },
    {
      "cell_type": "code",
      "execution_count": 118,
      "metadata": {
        "colab": {
          "base_uri": "https://localhost:8080/",
          "height": 512
        },
        "id": "nMp7WGOoPUpl",
        "outputId": "2f7be44f-445f-44a4-d1c1-35390ac0fc3b"
      },
      "outputs": [
        {
          "data": {
            "image/png": "[encoded data removed]",
            "text/plain": [
              "<Figure size 800x600 with 1 Axes>"
            ]
          },
          "metadata": {},
          "output_type": "display_data"
        }
      ],
      "source": [
        "allvals = data['ANTECEDENTE CLÍNICO DO PACIENTE (hígido=1/comorbidade=2/desconhecido=3)'].value_counts()\n",
        "plt.figure(figsize = (8,6), dpi = 100)\n",
        "label = ['1 - Hígido', '2 - Comorbidade', '3 - Desconhecido']\n",
        "data['ANTECEDENTE CLÍNICO DO PACIENTE (hígido=1/comorbidade=2/desconhecido=3)'].value_counts().plot.pie(explode = [0.05,0.05,0.05], autopct=lambda pct:func(pct, allvals))\n",
        "plt.legend(label,\n",
        "          title = 'Antecedente clínico',\n",
        "          loc = 'lower left')\n",
        "plt.ylabel('')\n",
        "plt.title('Antecedente clínico do paciente')\n",
        "plt.show()"
      ]
    },
    {
      "cell_type": "markdown",
      "metadata": {
        "id": "d9c3FetzSqpb"
      },
      "source": [
        "## Percent of altered manometry\n"
      ]
    },
    {
      "cell_type": "code",
      "execution_count": 119,
      "metadata": {
        "colab": {
          "base_uri": "https://localhost:8080/",
          "height": 512
        },
        "id": "7jV8QVeMStro",
        "outputId": "ac94116e-f913-40f9-801c-dfe6a4f74603"
      },
      "outputs": [
        {
          "data": {
            "image/png": "[encoded data removed]",
            "text/plain": [
              "<Figure size 800x600 with 1 Axes>"
            ]
          },
          "metadata": {},
          "output_type": "display_data"
        }
      ],
      "source": [
        "allvals = data['Manometria (normal=1/alterada=2/inconclusiva=3/não realizada=4)'].value_counts()\n",
        "plt.figure(figsize = (8,6), dpi = 100)\n",
        "label = ['1 - Normal', '2 - Alterada', '3 - Inconclusiva', '4 - Não realizada']\n",
        "data['Manometria (normal=1/alterada=2/inconclusiva=3/não realizada=4)'].astype(int).value_counts().plot.pie(explode = [0.05,0.05,0.05, 0.05], autopct=lambda pct:func(pct, allvals))\n",
        "plt.legend(label,\n",
        "          title = 'Resultado',\n",
        "          loc = 'lower left')\n",
        "plt.ylabel('')\n",
        "plt.title('Resultado do exame de Manometria')\n",
        "plt.show()"
      ]
    },
    {
      "cell_type": "markdown",
      "metadata": {
        "id": "bxGbLCpvVDa_"
      },
      "source": [
        "## Percent of biopsys done\n"
      ]
    },
    {
      "cell_type": "code",
      "execution_count": 120,
      "metadata": {
        "colab": {
          "base_uri": "https://localhost:8080/",
          "height": 512
        },
        "id": "1QhCv4YbVCfB",
        "outputId": "9740d301-16ca-4260-acd4-5a92953e68c8"
      },
      "outputs": [
        {
          "data": {
            "image/png": "[encoded data removed]",
            "text/plain": [
              "<Figure size 800x600 with 1 Axes>"
            ]
          },
          "metadata": {},
          "output_type": "display_data"
        }
      ],
      "source": [
        "allvals = data['Resultado da Biópsia (normal=1/alterada=2/inconclusivo=3/não realizada=4)'].value_counts()\n",
        "plt.figure(figsize = (8,6), dpi = 100)\n",
        "label = ['1 - Normal', '2 - Alterada', '3 - Inconclusiva', '4 - Não realizada']\n",
        "data['Resultado da Biópsia (normal=1/alterada=2/inconclusivo=3/não realizada=4)'].astype(int).value_counts().plot.pie(explode = [0.05,0.05,0.05, 0.05], autopct=lambda pct:func(pct,allvals))\n",
        "plt.legend(label,\n",
        "          title = 'Resultado',\n",
        "          loc = 'lower left')\n",
        "plt.ylabel('')\n",
        "plt.title('Resultado da Biópsia')\n",
        "plt.show()"
      ]
    },
    {
      "cell_type": "markdown",
      "metadata": {
        "id": "UMGcKgCzVnri"
      },
      "source": [
        "## Correlation between manometry and biopsy results\n"
      ]
    },
    {
      "cell_type": "code",
      "execution_count": 121,
      "metadata": {
        "id": "27IWqIyUWRZP"
      },
      "outputs": [],
      "source": [
        "manometria = pd.get_dummies(data['Manometria (normal=1/alterada=2/inconclusiva=3/não realizada=4)'] )\n",
        "manometria.columns = ['Manometria Normal', \n",
        "                       'Manometria Alterada',\n",
        "                       'Manometria Inconclusiva',\n",
        "                       'Manometria não realizada'\n",
        "                       ]\n",
        "manometria.drop('Manometria não realizada',axis =1, inplace=True)"
      ]
    },
    {
      "cell_type": "code",
      "execution_count": 122,
      "metadata": {
        "id": "oQ3EenlkWcG_"
      },
      "outputs": [],
      "source": [
        "biopsia = pd.get_dummies(data['Resultado da Biópsia (normal=1/alterada=2/inconclusivo=3/não realizada=4)'])\n",
        "biopsia.columns = ['Biópsia Normal', \n",
        "                   'Biópsia Alterada',\n",
        "                   'Biópsia Inconclusiva',\n",
        "                   'Biópsia não realizada'\n",
        "                   ]\n",
        "biopsia.drop('Biópsia não realizada',axis =1, inplace=True)"
      ]
    },
    {
      "cell_type": "code",
      "execution_count": 123,
      "metadata": {
        "colab": {
          "base_uri": "https://localhost:8080/",
          "height": 424
        },
        "id": "jQuBGQtTXKHh",
        "outputId": "c287fe52-1d84-4114-e708-59670ee9de38"
      },
      "outputs": [
        {
          "data": {
            "text/html": [
              "<div>\n",
              "<style scoped>\n",
              "    .dataframe tbody tr th:only-of-type {\n",
              "        vertical-align: middle;\n",
              "    }\n",
              "\n",
              "    .dataframe tbody tr th {\n",
              "        vertical-align: top;\n",
              "    }\n",
              "\n",
              "    .dataframe thead th {\n",
              "        text-align: right;\n",
              "    }\n",
              "</style>\n",
              "<table border=\"1\" class=\"dataframe\">\n",
              "  <thead>\n",
              "    <tr style=\"text-align: right;\">\n",
              "      <th></th>\n",
              "      <th>Manometria Normal</th>\n",
              "      <th>Manometria Alterada</th>\n",
              "      <th>Manometria Inconclusiva</th>\n",
              "      <th>Biópsia Normal</th>\n",
              "      <th>Biópsia Alterada</th>\n",
              "      <th>Biópsia Inconclusiva</th>\n",
              "    </tr>\n",
              "  </thead>\n",
              "  <tbody>\n",
              "    <tr>\n",
              "      <th>0</th>\n",
              "      <td>1</td>\n",
              "      <td>0</td>\n",
              "      <td>0</td>\n",
              "      <td>0</td>\n",
              "      <td>0</td>\n",
              "      <td>0</td>\n",
              "    </tr>\n",
              "    <tr>\n",
              "      <th>1</th>\n",
              "      <td>1</td>\n",
              "      <td>0</td>\n",
              "      <td>0</td>\n",
              "      <td>0</td>\n",
              "      <td>0</td>\n",
              "      <td>0</td>\n",
              "    </tr>\n",
              "    <tr>\n",
              "      <th>2</th>\n",
              "      <td>0</td>\n",
              "      <td>1</td>\n",
              "      <td>0</td>\n",
              "      <td>0</td>\n",
              "      <td>0</td>\n",
              "      <td>0</td>\n",
              "    </tr>\n",
              "    <tr>\n",
              "      <th>3</th>\n",
              "      <td>1</td>\n",
              "      <td>0</td>\n",
              "      <td>0</td>\n",
              "      <td>0</td>\n",
              "      <td>0</td>\n",
              "      <td>0</td>\n",
              "    </tr>\n",
              "    <tr>\n",
              "      <th>4</th>\n",
              "      <td>1</td>\n",
              "      <td>0</td>\n",
              "      <td>0</td>\n",
              "      <td>0</td>\n",
              "      <td>0</td>\n",
              "      <td>0</td>\n",
              "    </tr>\n",
              "    <tr>\n",
              "      <th>...</th>\n",
              "      <td>...</td>\n",
              "      <td>...</td>\n",
              "      <td>...</td>\n",
              "      <td>...</td>\n",
              "      <td>...</td>\n",
              "      <td>...</td>\n",
              "    </tr>\n",
              "    <tr>\n",
              "      <th>93</th>\n",
              "      <td>1</td>\n",
              "      <td>0</td>\n",
              "      <td>0</td>\n",
              "      <td>0</td>\n",
              "      <td>0</td>\n",
              "      <td>0</td>\n",
              "    </tr>\n",
              "    <tr>\n",
              "      <th>94</th>\n",
              "      <td>1</td>\n",
              "      <td>0</td>\n",
              "      <td>0</td>\n",
              "      <td>0</td>\n",
              "      <td>0</td>\n",
              "      <td>0</td>\n",
              "    </tr>\n",
              "    <tr>\n",
              "      <th>95</th>\n",
              "      <td>1</td>\n",
              "      <td>0</td>\n",
              "      <td>0</td>\n",
              "      <td>0</td>\n",
              "      <td>0</td>\n",
              "      <td>0</td>\n",
              "    </tr>\n",
              "    <tr>\n",
              "      <th>96</th>\n",
              "      <td>1</td>\n",
              "      <td>0</td>\n",
              "      <td>0</td>\n",
              "      <td>0</td>\n",
              "      <td>0</td>\n",
              "      <td>0</td>\n",
              "    </tr>\n",
              "    <tr>\n",
              "      <th>97</th>\n",
              "      <td>1</td>\n",
              "      <td>0</td>\n",
              "      <td>0</td>\n",
              "      <td>0</td>\n",
              "      <td>0</td>\n",
              "      <td>0</td>\n",
              "    </tr>\n",
              "  </tbody>\n",
              "</table>\n",
              "<p>98 rows × 6 columns</p>\n",
              "</div>"
            ],
            "text/plain": [
              "    Manometria Normal  Manometria Alterada  Manometria Inconclusiva  \\\n",
              "0                   1                    0                        0   \n",
              "1                   1                    0                        0   \n",
              "2                   0                    1                        0   \n",
              "3                   1                    0                        0   \n",
              "4                   1                    0                        0   \n",
              "..                ...                  ...                      ...   \n",
              "93                  1                    0                        0   \n",
              "94                  1                    0                        0   \n",
              "95                  1                    0                        0   \n",
              "96                  1                    0                        0   \n",
              "97                  1                    0                        0   \n",
              "\n",
              "    Biópsia Normal  Biópsia Alterada  Biópsia Inconclusiva  \n",
              "0                0                 0                     0  \n",
              "1                0                 0                     0  \n",
              "2                0                 0                     0  \n",
              "3                0                 0                     0  \n",
              "4                0                 0                     0  \n",
              "..             ...               ...                   ...  \n",
              "93               0                 0                     0  \n",
              "94               0                 0                     0  \n",
              "95               0                 0                     0  \n",
              "96               0                 0                     0  \n",
              "97               0                 0                     0  \n",
              "\n",
              "[98 rows x 6 columns]"
            ]
          },
          "execution_count": 123,
          "metadata": {},
          "output_type": "execute_result"
        }
      ],
      "source": [
        "corr_manometria_biopsia = pd.concat([manometria,biopsia], axis=1)\n",
        "corr_manometria_biopsia"
      ]
    },
    {
      "cell_type": "code",
      "execution_count": 124,
      "metadata": {
        "colab": {
          "base_uri": "https://localhost:8080/",
          "height": 112
        },
        "id": "VOgtK-9ecJ03",
        "outputId": "976fb76a-625b-435d-de28-c81d6cf8b26c"
      },
      "outputs": [
        {
          "data": {
            "text/html": [
              "<div>\n",
              "<style scoped>\n",
              "    .dataframe tbody tr th:only-of-type {\n",
              "        vertical-align: middle;\n",
              "    }\n",
              "\n",
              "    .dataframe tbody tr th {\n",
              "        vertical-align: top;\n",
              "    }\n",
              "\n",
              "    .dataframe thead th {\n",
              "        text-align: right;\n",
              "    }\n",
              "</style>\n",
              "<table border=\"1\" class=\"dataframe\">\n",
              "  <thead>\n",
              "    <tr style=\"text-align: right;\">\n",
              "      <th></th>\n",
              "      <th>Manometria Alterada</th>\n",
              "      <th>Biópsia Alterada</th>\n",
              "    </tr>\n",
              "  </thead>\n",
              "  <tbody>\n",
              "    <tr>\n",
              "      <th>Manometria Alterada</th>\n",
              "      <td>1.000000</td>\n",
              "      <td>0.455556</td>\n",
              "    </tr>\n",
              "    <tr>\n",
              "      <th>Biópsia Alterada</th>\n",
              "      <td>0.455556</td>\n",
              "      <td>1.000000</td>\n",
              "    </tr>\n",
              "  </tbody>\n",
              "</table>\n",
              "</div>"
            ],
            "text/plain": [
              "                     Manometria Alterada  Biópsia Alterada\n",
              "Manometria Alterada             1.000000          0.455556\n",
              "Biópsia Alterada                0.455556          1.000000"
            ]
          },
          "execution_count": 124,
          "metadata": {},
          "output_type": "execute_result"
        }
      ],
      "source": [
        "corr_manometria_biopsia[['Manometria Alterada', 'Biópsia Alterada']].corr()"
      ]
    },
    {
      "cell_type": "code",
      "execution_count": 125,
      "metadata": {
        "colab": {
          "base_uri": "https://localhost:8080/",
          "height": 511
        },
        "id": "hPFFIgHXVqI2",
        "outputId": "10f52857-e46e-444f-f790-50f7c77e6eb5"
      },
      "outputs": [
        {
          "data": {
            "text/plain": [
              "<AxesSubplot:>"
            ]
          },
          "execution_count": 125,
          "metadata": {},
          "output_type": "execute_result"
        },
        {
          "data": {
            "image/png": "[encoded data removed]",
            "text/plain": [
              "<Figure size 750x600 with 2 Axes>"
            ]
          },
          "metadata": {
            "needs_background": "light"
          },
          "output_type": "display_data"
        }
      ],
      "source": [
        "plt.figure(figsize = (15,12), dpi = 50)\n",
        "sns.heatmap(corr_manometria_biopsia[['Manometria Alterada', 'Biópsia Alterada']].corr(), cmap = 'Blues', annot = True, annot_kws = {'size':20})"
      ]
    },
    {
      "cell_type": "code",
      "execution_count": 126,
      "metadata": {
        "colab": {
          "base_uri": "https://localhost:8080/",
          "height": 112
        },
        "id": "DhtG2tUKcDjA",
        "outputId": "b5f65399-2807-4aa3-d8f5-81478857e1c2"
      },
      "outputs": [
        {
          "data": {
            "text/html": [
              "<div>\n",
              "<style scoped>\n",
              "    .dataframe tbody tr th:only-of-type {\n",
              "        vertical-align: middle;\n",
              "    }\n",
              "\n",
              "    .dataframe tbody tr th {\n",
              "        vertical-align: top;\n",
              "    }\n",
              "\n",
              "    .dataframe thead th {\n",
              "        text-align: right;\n",
              "    }\n",
              "</style>\n",
              "<table border=\"1\" class=\"dataframe\">\n",
              "  <thead>\n",
              "    <tr style=\"text-align: right;\">\n",
              "      <th></th>\n",
              "      <th>Manometria Alterada</th>\n",
              "      <th>Biópsia Normal</th>\n",
              "    </tr>\n",
              "  </thead>\n",
              "  <tbody>\n",
              "    <tr>\n",
              "      <th>Manometria Alterada</th>\n",
              "      <td>1.000000</td>\n",
              "      <td>0.163282</td>\n",
              "    </tr>\n",
              "    <tr>\n",
              "      <th>Biópsia Normal</th>\n",
              "      <td>0.163282</td>\n",
              "      <td>1.000000</td>\n",
              "    </tr>\n",
              "  </tbody>\n",
              "</table>\n",
              "</div>"
            ],
            "text/plain": [
              "                     Manometria Alterada  Biópsia Normal\n",
              "Manometria Alterada             1.000000        0.163282\n",
              "Biópsia Normal                  0.163282        1.000000"
            ]
          },
          "execution_count": 126,
          "metadata": {},
          "output_type": "execute_result"
        }
      ],
      "source": [
        "corr_manometria_biopsia[['Manometria Alterada', 'Biópsia Normal']].corr()"
      ]
    },
    {
      "cell_type": "code",
      "execution_count": 127,
      "metadata": {
        "colab": {
          "base_uri": "https://localhost:8080/",
          "height": 511
        },
        "id": "-Di7MHXxazMi",
        "outputId": "b76a4a5e-a3e6-4800-dfe3-efcc384ac434"
      },
      "outputs": [
        {
          "data": {
            "text/plain": [
              "<AxesSubplot:>"
            ]
          },
          "execution_count": 127,
          "metadata": {},
          "output_type": "execute_result"
        },
        {
          "data": {
            "image/png": "[encoded data removed]",
            "text/plain": [
              "<Figure size 750x600 with 2 Axes>"
            ]
          },
          "metadata": {
            "needs_background": "light"
          },
          "output_type": "display_data"
        }
      ],
      "source": [
        "plt.figure(figsize = (15,12), dpi = 50)\n",
        "sns.heatmap(corr_manometria_biopsia[['Manometria Alterada', 'Biópsia Normal']].corr(), cmap = 'Blues', annot = True,annot_kws = {'size':20})"
      ]
    },
    {
      "cell_type": "markdown",
      "metadata": {
        "id": "uqNcd28A50dg"
      },
      "source": [
        "## Correlation between comorbity and altered exams\n"
      ]
    },
    {
      "cell_type": "code",
      "execution_count": 128,
      "metadata": {
        "colab": {
          "base_uri": "https://localhost:8080/",
          "height": 540
        },
        "id": "WTpAfBBC59v2",
        "outputId": "06a5a768-d808-4c6d-987d-6270b1f37986"
      },
      "outputs": [
        {
          "data": {
            "text/html": [
              "<div>\n",
              "<style scoped>\n",
              "    .dataframe tbody tr th:only-of-type {\n",
              "        vertical-align: middle;\n",
              "    }\n",
              "\n",
              "    .dataframe tbody tr th {\n",
              "        vertical-align: top;\n",
              "    }\n",
              "\n",
              "    .dataframe thead th {\n",
              "        text-align: right;\n",
              "    }\n",
              "</style>\n",
              "<table border=\"1\" class=\"dataframe\">\n",
              "  <thead>\n",
              "    <tr style=\"text-align: right;\">\n",
              "      <th></th>\n",
              "      <th>Idade ao exame</th>\n",
              "      <th>Duração da constipação até chegar ao serviço</th>\n",
              "      <th>Fez tratamento clínico antes da Manometria? (Sim=1/não=2/desconhecido=3)</th>\n",
              "      <th>ANTECEDENTE CLÍNICO DO PACIENTE (hígido=1/comorbidade=2/desconhecido=3)</th>\n",
              "      <th>Manometria (normal=1/alterada=2/inconclusiva=3/não realizada=4)</th>\n",
              "      <th>Resultado da Biópsia (normal=1/alterada=2/inconclusivo=3/não realizada=4)</th>\n",
              "      <th>Desfecho para o paciente em relação ao seguimento (mantém=1/alta=2/perdeu=3/óbito=4/desconhecido=5)</th>\n",
              "    </tr>\n",
              "  </thead>\n",
              "  <tbody>\n",
              "    <tr>\n",
              "      <th>0</th>\n",
              "      <td>5.00</td>\n",
              "      <td>0.02</td>\n",
              "      <td>1.0</td>\n",
              "      <td>2</td>\n",
              "      <td>1.0</td>\n",
              "      <td>4.0</td>\n",
              "      <td>1.0</td>\n",
              "    </tr>\n",
              "    <tr>\n",
              "      <th>1</th>\n",
              "      <td>8.58</td>\n",
              "      <td>8.58</td>\n",
              "      <td>1.0</td>\n",
              "      <td>2</td>\n",
              "      <td>1.0</td>\n",
              "      <td>4.0</td>\n",
              "      <td>2.0</td>\n",
              "    </tr>\n",
              "    <tr>\n",
              "      <th>2</th>\n",
              "      <td>12.08</td>\n",
              "      <td>12.08</td>\n",
              "      <td>1.0</td>\n",
              "      <td>2</td>\n",
              "      <td>2.0</td>\n",
              "      <td>4.0</td>\n",
              "      <td>3.0</td>\n",
              "    </tr>\n",
              "    <tr>\n",
              "      <th>3</th>\n",
              "      <td>11.25</td>\n",
              "      <td>2.25</td>\n",
              "      <td>1.0</td>\n",
              "      <td>1</td>\n",
              "      <td>1.0</td>\n",
              "      <td>4.0</td>\n",
              "      <td>2.0</td>\n",
              "    </tr>\n",
              "    <tr>\n",
              "      <th>4</th>\n",
              "      <td>3.17</td>\n",
              "      <td>1.17</td>\n",
              "      <td>1.0</td>\n",
              "      <td>2</td>\n",
              "      <td>1.0</td>\n",
              "      <td>4.0</td>\n",
              "      <td>1.0</td>\n",
              "    </tr>\n",
              "    <tr>\n",
              "      <th>...</th>\n",
              "      <td>...</td>\n",
              "      <td>...</td>\n",
              "      <td>...</td>\n",
              "      <td>...</td>\n",
              "      <td>...</td>\n",
              "      <td>...</td>\n",
              "      <td>...</td>\n",
              "    </tr>\n",
              "    <tr>\n",
              "      <th>93</th>\n",
              "      <td>10.17</td>\n",
              "      <td>1.17</td>\n",
              "      <td>1.0</td>\n",
              "      <td>1</td>\n",
              "      <td>1.0</td>\n",
              "      <td>4.0</td>\n",
              "      <td>3.0</td>\n",
              "    </tr>\n",
              "    <tr>\n",
              "      <th>94</th>\n",
              "      <td>12.00</td>\n",
              "      <td>9</td>\n",
              "      <td>1.0</td>\n",
              "      <td>1</td>\n",
              "      <td>1.0</td>\n",
              "      <td>4.0</td>\n",
              "      <td>3.0</td>\n",
              "    </tr>\n",
              "    <tr>\n",
              "      <th>95</th>\n",
              "      <td>10.58</td>\n",
              "      <td>10.25</td>\n",
              "      <td>1.0</td>\n",
              "      <td>2</td>\n",
              "      <td>1.0</td>\n",
              "      <td>4.0</td>\n",
              "      <td>3.0</td>\n",
              "    </tr>\n",
              "    <tr>\n",
              "      <th>96</th>\n",
              "      <td>7.08</td>\n",
              "      <td>6.75</td>\n",
              "      <td>1.0</td>\n",
              "      <td>1</td>\n",
              "      <td>1.0</td>\n",
              "      <td>4.0</td>\n",
              "      <td>3.0</td>\n",
              "    </tr>\n",
              "    <tr>\n",
              "      <th>97</th>\n",
              "      <td>14.00</td>\n",
              "      <td>9</td>\n",
              "      <td>1.0</td>\n",
              "      <td>1</td>\n",
              "      <td>1.0</td>\n",
              "      <td>4.0</td>\n",
              "      <td>3.0</td>\n",
              "    </tr>\n",
              "  </tbody>\n",
              "</table>\n",
              "<p>98 rows × 7 columns</p>\n",
              "</div>"
            ],
            "text/plain": [
              "    Idade ao exame Duração da constipação até chegar ao serviço  \\\n",
              "0             5.00                                         0.02   \n",
              "1             8.58                                         8.58   \n",
              "2            12.08                                        12.08   \n",
              "3            11.25                                         2.25   \n",
              "4             3.17                                         1.17   \n",
              "..             ...                                          ...   \n",
              "93           10.17                                         1.17   \n",
              "94           12.00                                            9   \n",
              "95           10.58                                        10.25   \n",
              "96            7.08                                         6.75   \n",
              "97           14.00                                            9   \n",
              "\n",
              "    Fez tratamento clínico antes da Manometria? (Sim=1/não=2/desconhecido=3)  \\\n",
              "0                                                 1.0                          \n",
              "1                                                 1.0                          \n",
              "2                                                 1.0                          \n",
              "3                                                 1.0                          \n",
              "4                                                 1.0                          \n",
              "..                                                ...                          \n",
              "93                                                1.0                          \n",
              "94                                                1.0                          \n",
              "95                                                1.0                          \n",
              "96                                                1.0                          \n",
              "97                                                1.0                          \n",
              "\n",
              "    ANTECEDENTE CLÍNICO DO PACIENTE (hígido=1/comorbidade=2/desconhecido=3)  \\\n",
              "0                                                   2                         \n",
              "1                                                   2                         \n",
              "2                                                   2                         \n",
              "3                                                   1                         \n",
              "4                                                   2                         \n",
              "..                                                ...                         \n",
              "93                                                  1                         \n",
              "94                                                  1                         \n",
              "95                                                  2                         \n",
              "96                                                  1                         \n",
              "97                                                  1                         \n",
              "\n",
              "    Manometria (normal=1/alterada=2/inconclusiva=3/não realizada=4)  \\\n",
              "0                                                 1.0                 \n",
              "1                                                 1.0                 \n",
              "2                                                 2.0                 \n",
              "3                                                 1.0                 \n",
              "4                                                 1.0                 \n",
              "..                                                ...                 \n",
              "93                                                1.0                 \n",
              "94                                                1.0                 \n",
              "95                                                1.0                 \n",
              "96                                                1.0                 \n",
              "97                                                1.0                 \n",
              "\n",
              "    Resultado da Biópsia (normal=1/alterada=2/inconclusivo=3/não realizada=4)  \\\n",
              "0                                                 4.0                           \n",
              "1                                                 4.0                           \n",
              "2                                                 4.0                           \n",
              "3                                                 4.0                           \n",
              "4                                                 4.0                           \n",
              "..                                                ...                           \n",
              "93                                                4.0                           \n",
              "94                                                4.0                           \n",
              "95                                                4.0                           \n",
              "96                                                4.0                           \n",
              "97                                                4.0                           \n",
              "\n",
              "    Desfecho para o paciente em relação ao seguimento (mantém=1/alta=2/perdeu=3/óbito=4/desconhecido=5)  \n",
              "0                                                 1.0                                                    \n",
              "1                                                 2.0                                                    \n",
              "2                                                 3.0                                                    \n",
              "3                                                 2.0                                                    \n",
              "4                                                 1.0                                                    \n",
              "..                                                ...                                                    \n",
              "93                                                3.0                                                    \n",
              "94                                                3.0                                                    \n",
              "95                                                3.0                                                    \n",
              "96                                                3.0                                                    \n",
              "97                                                3.0                                                    \n",
              "\n",
              "[98 rows x 7 columns]"
            ]
          },
          "execution_count": 128,
          "metadata": {},
          "output_type": "execute_result"
        }
      ],
      "source": [
        "data"
      ]
    },
    {
      "cell_type": "code",
      "execution_count": 129,
      "metadata": {
        "id": "sjCx0QNs6ITB"
      },
      "outputs": [],
      "source": [
        "exame_alterado = []\n",
        "for idx, _ in data[['Manometria (normal=1/alterada=2/inconclusiva=3/não realizada=4)','Resultado da Biópsia (normal=1/alterada=2/inconclusivo=3/não realizada=4)']].iterrows():\n",
        "  if data['Manometria (normal=1/alterada=2/inconclusiva=3/não realizada=4)'][idx]==2 or data['Resultado da Biópsia (normal=1/alterada=2/inconclusivo=3/não realizada=4)'][idx]==2:\n",
        "    exame_alterado.append(1)\n",
        "  else:\n",
        "    exame_alterado.append(0) "
      ]
    },
    {
      "cell_type": "code",
      "execution_count": 130,
      "metadata": {
        "id": "nQ8L3mVV-g2U"
      },
      "outputs": [],
      "source": [
        "comorbidade = []\n",
        "for idx, _ in data[['ANTECEDENTE CLÍNICO DO PACIENTE (hígido=1/comorbidade=2/desconhecido=3)']].iterrows():\n",
        "  if data['ANTECEDENTE CLÍNICO DO PACIENTE (hígido=1/comorbidade=2/desconhecido=3)'][idx]==2 :\n",
        "    comorbidade.append(1)\n",
        "  else:\n",
        "    comorbidade.append(0) "
      ]
    },
    {
      "cell_type": "code",
      "execution_count": 131,
      "metadata": {
        "id": "J5HU4YIb9GkH"
      },
      "outputs": [],
      "source": [
        "exame_alterado = pd.Series(exame_alterado)"
      ]
    },
    {
      "cell_type": "code",
      "execution_count": 132,
      "metadata": {
        "id": "_X627vP_9cYr"
      },
      "outputs": [],
      "source": [
        "comorbidade = pd.Series(comorbidade)"
      ]
    },
    {
      "cell_type": "code",
      "execution_count": 133,
      "metadata": {
        "colab": {
          "base_uri": "https://localhost:8080/",
          "height": 424
        },
        "id": "cmLyftGm-Q07",
        "outputId": "645b2392-8775-435d-8baf-81f4a1684c33"
      },
      "outputs": [
        {
          "data": {
            "text/html": [
              "<div>\n",
              "<style scoped>\n",
              "    .dataframe tbody tr th:only-of-type {\n",
              "        vertical-align: middle;\n",
              "    }\n",
              "\n",
              "    .dataframe tbody tr th {\n",
              "        vertical-align: top;\n",
              "    }\n",
              "\n",
              "    .dataframe thead th {\n",
              "        text-align: right;\n",
              "    }\n",
              "</style>\n",
              "<table border=\"1\" class=\"dataframe\">\n",
              "  <thead>\n",
              "    <tr style=\"text-align: right;\">\n",
              "      <th></th>\n",
              "      <th>Exame alterado</th>\n",
              "      <th>Comorbidade</th>\n",
              "    </tr>\n",
              "  </thead>\n",
              "  <tbody>\n",
              "    <tr>\n",
              "      <th>0</th>\n",
              "      <td>0</td>\n",
              "      <td>1</td>\n",
              "    </tr>\n",
              "    <tr>\n",
              "      <th>1</th>\n",
              "      <td>0</td>\n",
              "      <td>1</td>\n",
              "    </tr>\n",
              "    <tr>\n",
              "      <th>2</th>\n",
              "      <td>1</td>\n",
              "      <td>1</td>\n",
              "    </tr>\n",
              "    <tr>\n",
              "      <th>3</th>\n",
              "      <td>0</td>\n",
              "      <td>0</td>\n",
              "    </tr>\n",
              "    <tr>\n",
              "      <th>4</th>\n",
              "      <td>0</td>\n",
              "      <td>1</td>\n",
              "    </tr>\n",
              "    <tr>\n",
              "      <th>...</th>\n",
              "      <td>...</td>\n",
              "      <td>...</td>\n",
              "    </tr>\n",
              "    <tr>\n",
              "      <th>93</th>\n",
              "      <td>0</td>\n",
              "      <td>0</td>\n",
              "    </tr>\n",
              "    <tr>\n",
              "      <th>94</th>\n",
              "      <td>0</td>\n",
              "      <td>0</td>\n",
              "    </tr>\n",
              "    <tr>\n",
              "      <th>95</th>\n",
              "      <td>0</td>\n",
              "      <td>1</td>\n",
              "    </tr>\n",
              "    <tr>\n",
              "      <th>96</th>\n",
              "      <td>0</td>\n",
              "      <td>0</td>\n",
              "    </tr>\n",
              "    <tr>\n",
              "      <th>97</th>\n",
              "      <td>0</td>\n",
              "      <td>0</td>\n",
              "    </tr>\n",
              "  </tbody>\n",
              "</table>\n",
              "<p>98 rows × 2 columns</p>\n",
              "</div>"
            ],
            "text/plain": [
              "    Exame alterado  Comorbidade\n",
              "0                0            1\n",
              "1                0            1\n",
              "2                1            1\n",
              "3                0            0\n",
              "4                0            1\n",
              "..             ...          ...\n",
              "93               0            0\n",
              "94               0            0\n",
              "95               0            1\n",
              "96               0            0\n",
              "97               0            0\n",
              "\n",
              "[98 rows x 2 columns]"
            ]
          },
          "execution_count": 133,
          "metadata": {},
          "output_type": "execute_result"
        }
      ],
      "source": [
        "corr_comorbidade_exame = pd.concat([exame_alterado,comorbidade], axis=1)\n",
        "corr_comorbidade_exame.columns = ['Exame alterado', 'Comorbidade']\n",
        "corr_comorbidade_exame"
      ]
    },
    {
      "cell_type": "code",
      "execution_count": 134,
      "metadata": {
        "colab": {
          "base_uri": "https://localhost:8080/",
          "height": 112
        },
        "id": "o1kwJAGNAdyg",
        "outputId": "eeb06120-b36a-499d-9751-5aca2ea59815"
      },
      "outputs": [
        {
          "data": {
            "text/html": [
              "<div>\n",
              "<style scoped>\n",
              "    .dataframe tbody tr th:only-of-type {\n",
              "        vertical-align: middle;\n",
              "    }\n",
              "\n",
              "    .dataframe tbody tr th {\n",
              "        vertical-align: top;\n",
              "    }\n",
              "\n",
              "    .dataframe thead th {\n",
              "        text-align: right;\n",
              "    }\n",
              "</style>\n",
              "<table border=\"1\" class=\"dataframe\">\n",
              "  <thead>\n",
              "    <tr style=\"text-align: right;\">\n",
              "      <th></th>\n",
              "      <th>Exame alterado</th>\n",
              "      <th>Comorbidade</th>\n",
              "    </tr>\n",
              "  </thead>\n",
              "  <tbody>\n",
              "    <tr>\n",
              "      <th>Exame alterado</th>\n",
              "      <td>1.000000</td>\n",
              "      <td>0.368429</td>\n",
              "    </tr>\n",
              "    <tr>\n",
              "      <th>Comorbidade</th>\n",
              "      <td>0.368429</td>\n",
              "      <td>1.000000</td>\n",
              "    </tr>\n",
              "  </tbody>\n",
              "</table>\n",
              "</div>"
            ],
            "text/plain": [
              "                Exame alterado  Comorbidade\n",
              "Exame alterado        1.000000     0.368429\n",
              "Comorbidade           0.368429     1.000000"
            ]
          },
          "execution_count": 134,
          "metadata": {},
          "output_type": "execute_result"
        }
      ],
      "source": [
        "corr_comorbidade_exame[['Exame alterado', 'Comorbidade']].corr()"
      ]
    },
    {
      "cell_type": "code",
      "execution_count": 135,
      "metadata": {
        "colab": {
          "base_uri": "https://localhost:8080/",
          "height": 510
        },
        "id": "i1_jKiJzAk8A",
        "outputId": "758e301a-713f-48dd-b46d-c364b8f0fd57"
      },
      "outputs": [
        {
          "data": {
            "text/plain": [
              "<AxesSubplot:>"
            ]
          },
          "execution_count": 135,
          "metadata": {},
          "output_type": "execute_result"
        },
        {
          "data": {
            "image/png": "[encoded data removed]",
            "text/plain": [
              "<Figure size 750x600 with 2 Axes>"
            ]
          },
          "metadata": {
            "needs_background": "light"
          },
          "output_type": "display_data"
        }
      ],
      "source": [
        "plt.figure(figsize = (15,12), dpi = 50)\n",
        "sns.heatmap(corr_comorbidade_exame[['Exame alterado', 'Comorbidade']].corr(), cmap = 'OrRd', annot = True,annot_kws = {'size':20})"
      ]
    },
    {
      "cell_type": "markdown",
      "metadata": {
        "id": "2UbY8QJfcYuH"
      },
      "source": [
        "## Percent of the outcome for the pacients"
      ]
    },
    {
      "cell_type": "code",
      "execution_count": 136,
      "metadata": {
        "colab": {
          "base_uri": "https://localhost:8080/",
          "height": 512
        },
        "id": "rXid6ZgLcARK",
        "outputId": "fabe553f-87c0-48c2-ebae-f5e11e5c9435"
      },
      "outputs": [
        {
          "data": {
            "image/png": "[encoded data removed]",
            "text/plain": [
              "<Figure size 800x600 with 1 Axes>"
            ]
          },
          "metadata": {},
          "output_type": "display_data"
        }
      ],
      "source": [
        "allvals = data['Desfecho para o paciente em relação ao seguimento (mantém=1/alta=2/perdeu=3/óbito=4/desconhecido=5)'].value_counts()\n",
        "plt.figure(figsize = (8,6), dpi = 100)\n",
        "label = ['1 - Mantém', '2 - Alta', '3 - Perdeu', '4 - Óbito','5 - Desconhecido']\n",
        "data['Desfecho para o paciente em relação ao seguimento (mantém=1/alta=2/perdeu=3/óbito=4/desconhecido=5)'].astype(int).value_counts().plot.pie(explode = [0.05,0.05,0.05,0.05, 0.05], autopct= lambda pct:func(pct, allvals))\n",
        "plt.legend(label,\n",
        "          title = 'Resultado',\n",
        "          loc = 'upper right')\n",
        "plt.ylabel('')\n",
        "plt.title('Desfecho para o paciente em relação ao seguimento')\n",
        "plt.show()"
      ]
    }
  ],
  "metadata": {
    "colab": {
      "name": "Correlatios_between_manometry_and_biopsy.ipynb",
      "provenance": []
    },
    "kernelspec": {
      "display_name": "Python 3",
      "name": "python3"
    },
    "language_info": {
      "codemirror_mode": {
        "name": "ipython",
        "version": 3
      },
      "file_extension": ".py",
      "mimetype": "text/x-python",
      "name": "python",
      "nbconvert_exporter": "python",
      "pygments_lexer": "ipython3",
      "version": "3.8.5"
    }
  },
  "nbformat": 4,
  "nbformat_minor": 0
}
